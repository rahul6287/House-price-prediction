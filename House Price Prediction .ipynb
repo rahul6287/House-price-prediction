{
 "cells": [
  {
   "cell_type": "markdown",
   "metadata": {},
   "source": [
    "# <<-----------------------House Price Prediction--------------------->>"
   ]
  },
  {
   "cell_type": "markdown",
   "metadata": {},
   "source": [
    "### Importing Libraries"
   ]
  },
  {
   "cell_type": "code",
   "execution_count": 1,
   "metadata": {},
   "outputs": [],
   "source": [
    "import pandas as pd\n",
    "import numpy as np\n",
    "import matplotlib.pyplot as plt\n",
    "import seaborn as sns\n",
    "import random\n",
    "random.seed(100)\n",
    "import warnings\n",
    "warnings.filterwarnings(\"ignore\")"
   ]
  },
  {
   "cell_type": "code",
   "execution_count": 2,
   "metadata": {},
   "outputs": [],
   "source": [
    "df=pd.read_csv(\"train.csv\")"
   ]
  },
  {
   "cell_type": "code",
   "execution_count": 3,
   "metadata": {},
   "outputs": [],
   "source": [
    "pd.set_option(\"display.max_rows\",1000)\n",
    "pd.set_option(\"display.max_columns\",1000)"
   ]
  },
  {
   "cell_type": "code",
   "execution_count": 4,
   "metadata": {},
   "outputs": [
    {
     "data": {
      "text/html": [
       "<div>\n",
       "<style scoped>\n",
       "    .dataframe tbody tr th:only-of-type {\n",
       "        vertical-align: middle;\n",
       "    }\n",
       "\n",
       "    .dataframe tbody tr th {\n",
       "        vertical-align: top;\n",
       "    }\n",
       "\n",
       "    .dataframe thead th {\n",
       "        text-align: right;\n",
       "    }\n",
       "</style>\n",
       "<table border=\"1\" class=\"dataframe\">\n",
       "  <thead>\n",
       "    <tr style=\"text-align: right;\">\n",
       "      <th></th>\n",
       "      <th>POSTED_BY</th>\n",
       "      <th>UNDER_CONSTRUCTION</th>\n",
       "      <th>RERA</th>\n",
       "      <th>BHK_NO.</th>\n",
       "      <th>BHK_OR_RK</th>\n",
       "      <th>SQUARE_FT</th>\n",
       "      <th>READY_TO_MOVE</th>\n",
       "      <th>RESALE</th>\n",
       "      <th>ADDRESS</th>\n",
       "      <th>LONGITUDE</th>\n",
       "      <th>LATITUDE</th>\n",
       "      <th>TARGET(PRICE_IN_LACS)</th>\n",
       "    </tr>\n",
       "  </thead>\n",
       "  <tbody>\n",
       "    <tr>\n",
       "      <th>0</th>\n",
       "      <td>Owner</td>\n",
       "      <td>0</td>\n",
       "      <td>0</td>\n",
       "      <td>2</td>\n",
       "      <td>BHK</td>\n",
       "      <td>1300.236407</td>\n",
       "      <td>1</td>\n",
       "      <td>1</td>\n",
       "      <td>Ksfc Layout,Bangalore</td>\n",
       "      <td>12.969910</td>\n",
       "      <td>77.597960</td>\n",
       "      <td>55.0</td>\n",
       "    </tr>\n",
       "    <tr>\n",
       "      <th>1</th>\n",
       "      <td>Dealer</td>\n",
       "      <td>0</td>\n",
       "      <td>0</td>\n",
       "      <td>2</td>\n",
       "      <td>BHK</td>\n",
       "      <td>1275.000000</td>\n",
       "      <td>1</td>\n",
       "      <td>1</td>\n",
       "      <td>Vishweshwara Nagar,Mysore</td>\n",
       "      <td>12.274538</td>\n",
       "      <td>76.644605</td>\n",
       "      <td>51.0</td>\n",
       "    </tr>\n",
       "    <tr>\n",
       "      <th>2</th>\n",
       "      <td>Owner</td>\n",
       "      <td>0</td>\n",
       "      <td>0</td>\n",
       "      <td>2</td>\n",
       "      <td>BHK</td>\n",
       "      <td>933.159722</td>\n",
       "      <td>1</td>\n",
       "      <td>1</td>\n",
       "      <td>Jigani,Bangalore</td>\n",
       "      <td>12.778033</td>\n",
       "      <td>77.632191</td>\n",
       "      <td>43.0</td>\n",
       "    </tr>\n",
       "    <tr>\n",
       "      <th>3</th>\n",
       "      <td>Owner</td>\n",
       "      <td>0</td>\n",
       "      <td>1</td>\n",
       "      <td>2</td>\n",
       "      <td>BHK</td>\n",
       "      <td>929.921143</td>\n",
       "      <td>1</td>\n",
       "      <td>1</td>\n",
       "      <td>Sector-1 Vaishali,Ghaziabad</td>\n",
       "      <td>28.642300</td>\n",
       "      <td>77.344500</td>\n",
       "      <td>62.5</td>\n",
       "    </tr>\n",
       "    <tr>\n",
       "      <th>4</th>\n",
       "      <td>Dealer</td>\n",
       "      <td>1</td>\n",
       "      <td>0</td>\n",
       "      <td>2</td>\n",
       "      <td>BHK</td>\n",
       "      <td>999.009247</td>\n",
       "      <td>0</td>\n",
       "      <td>1</td>\n",
       "      <td>New Town,Kolkata</td>\n",
       "      <td>22.592200</td>\n",
       "      <td>88.484911</td>\n",
       "      <td>60.5</td>\n",
       "    </tr>\n",
       "  </tbody>\n",
       "</table>\n",
       "</div>"
      ],
      "text/plain": [
       "  POSTED_BY  UNDER_CONSTRUCTION  RERA  BHK_NO. BHK_OR_RK    SQUARE_FT  \\\n",
       "0     Owner                   0     0        2       BHK  1300.236407   \n",
       "1    Dealer                   0     0        2       BHK  1275.000000   \n",
       "2     Owner                   0     0        2       BHK   933.159722   \n",
       "3     Owner                   0     1        2       BHK   929.921143   \n",
       "4    Dealer                   1     0        2       BHK   999.009247   \n",
       "\n",
       "   READY_TO_MOVE  RESALE                      ADDRESS  LONGITUDE   LATITUDE  \\\n",
       "0              1       1        Ksfc Layout,Bangalore  12.969910  77.597960   \n",
       "1              1       1    Vishweshwara Nagar,Mysore  12.274538  76.644605   \n",
       "2              1       1             Jigani,Bangalore  12.778033  77.632191   \n",
       "3              1       1  Sector-1 Vaishali,Ghaziabad  28.642300  77.344500   \n",
       "4              0       1             New Town,Kolkata  22.592200  88.484911   \n",
       "\n",
       "   TARGET(PRICE_IN_LACS)  \n",
       "0                   55.0  \n",
       "1                   51.0  \n",
       "2                   43.0  \n",
       "3                   62.5  \n",
       "4                   60.5  "
      ]
     },
     "execution_count": 4,
     "metadata": {},
     "output_type": "execute_result"
    }
   ],
   "source": [
    "## Let's check the head of the Data\n",
    "df.head()"
   ]
  },
  {
   "cell_type": "code",
   "execution_count": 5,
   "metadata": {},
   "outputs": [
    {
     "data": {
      "text/plain": [
       "(29451, 12)"
      ]
     },
     "execution_count": 5,
     "metadata": {},
     "output_type": "execute_result"
    }
   ],
   "source": [
    "##Let's check the shape of the data\n",
    "df.shape"
   ]
  },
  {
   "cell_type": "code",
   "execution_count": 6,
   "metadata": {},
   "outputs": [
    {
     "data": {
      "text/plain": [
       "POSTED_BY                0\n",
       "UNDER_CONSTRUCTION       0\n",
       "RERA                     0\n",
       "BHK_NO.                  0\n",
       "BHK_OR_RK                0\n",
       "SQUARE_FT                0\n",
       "READY_TO_MOVE            0\n",
       "RESALE                   0\n",
       "ADDRESS                  0\n",
       "LONGITUDE                0\n",
       "LATITUDE                 0\n",
       "TARGET(PRICE_IN_LACS)    0\n",
       "dtype: int64"
      ]
     },
     "execution_count": 6,
     "metadata": {},
     "output_type": "execute_result"
    }
   ],
   "source": [
    "## Let's check if any null values exist in our dataset or not\n",
    "df.isnull().sum()"
   ]
  },
  {
   "cell_type": "code",
   "execution_count": 7,
   "metadata": {},
   "outputs": [
    {
     "name": "stdout",
     "output_type": "stream",
     "text": [
      "<class 'pandas.core.frame.DataFrame'>\n",
      "RangeIndex: 29451 entries, 0 to 29450\n",
      "Data columns (total 12 columns):\n",
      " #   Column                 Non-Null Count  Dtype  \n",
      "---  ------                 --------------  -----  \n",
      " 0   POSTED_BY              29451 non-null  object \n",
      " 1   UNDER_CONSTRUCTION     29451 non-null  int64  \n",
      " 2   RERA                   29451 non-null  int64  \n",
      " 3   BHK_NO.                29451 non-null  int64  \n",
      " 4   BHK_OR_RK              29451 non-null  object \n",
      " 5   SQUARE_FT              29451 non-null  float64\n",
      " 6   READY_TO_MOVE          29451 non-null  int64  \n",
      " 7   RESALE                 29451 non-null  int64  \n",
      " 8   ADDRESS                29451 non-null  object \n",
      " 9   LONGITUDE              29451 non-null  float64\n",
      " 10  LATITUDE               29451 non-null  float64\n",
      " 11  TARGET(PRICE_IN_LACS)  29451 non-null  float64\n",
      "dtypes: float64(4), int64(5), object(3)\n",
      "memory usage: 2.7+ MB\n"
     ]
    }
   ],
   "source": [
    "##The datasets seems clean\n",
    "#Let's see the information about the dataset\n",
    "df.info()"
   ]
  },
  {
   "cell_type": "markdown",
   "metadata": {},
   "source": [
    "## Let's Perform EDA"
   ]
  },
  {
   "cell_type": "code",
   "execution_count": 8,
   "metadata": {},
   "outputs": [],
   "source": [
    "##Let's see how many categorical columns are there in our dataset\n",
    "cat_cols=[col for col in df.columns if df[col].dtypes==\"O\"]"
   ]
  },
  {
   "cell_type": "code",
   "execution_count": 9,
   "metadata": {},
   "outputs": [
    {
     "data": {
      "text/plain": [
       "['POSTED_BY', 'BHK_OR_RK', 'ADDRESS']"
      ]
     },
     "execution_count": 9,
     "metadata": {},
     "output_type": "execute_result"
    }
   ],
   "source": [
    "cat_cols"
   ]
  },
  {
   "cell_type": "code",
   "execution_count": 10,
   "metadata": {},
   "outputs": [
    {
     "data": {
      "text/html": [
       "<div>\n",
       "<style scoped>\n",
       "    .dataframe tbody tr th:only-of-type {\n",
       "        vertical-align: middle;\n",
       "    }\n",
       "\n",
       "    .dataframe tbody tr th {\n",
       "        vertical-align: top;\n",
       "    }\n",
       "\n",
       "    .dataframe thead th {\n",
       "        text-align: right;\n",
       "    }\n",
       "</style>\n",
       "<table border=\"1\" class=\"dataframe\">\n",
       "  <thead>\n",
       "    <tr style=\"text-align: right;\">\n",
       "      <th></th>\n",
       "      <th>POSTED_BY</th>\n",
       "      <th>BHK_OR_RK</th>\n",
       "      <th>ADDRESS</th>\n",
       "    </tr>\n",
       "  </thead>\n",
       "  <tbody>\n",
       "    <tr>\n",
       "      <th>0</th>\n",
       "      <td>Owner</td>\n",
       "      <td>BHK</td>\n",
       "      <td>Ksfc Layout,Bangalore</td>\n",
       "    </tr>\n",
       "    <tr>\n",
       "      <th>1</th>\n",
       "      <td>Dealer</td>\n",
       "      <td>BHK</td>\n",
       "      <td>Vishweshwara Nagar,Mysore</td>\n",
       "    </tr>\n",
       "    <tr>\n",
       "      <th>2</th>\n",
       "      <td>Owner</td>\n",
       "      <td>BHK</td>\n",
       "      <td>Jigani,Bangalore</td>\n",
       "    </tr>\n",
       "    <tr>\n",
       "      <th>3</th>\n",
       "      <td>Owner</td>\n",
       "      <td>BHK</td>\n",
       "      <td>Sector-1 Vaishali,Ghaziabad</td>\n",
       "    </tr>\n",
       "    <tr>\n",
       "      <th>4</th>\n",
       "      <td>Dealer</td>\n",
       "      <td>BHK</td>\n",
       "      <td>New Town,Kolkata</td>\n",
       "    </tr>\n",
       "    <tr>\n",
       "      <th>...</th>\n",
       "      <td>...</td>\n",
       "      <td>...</td>\n",
       "      <td>...</td>\n",
       "    </tr>\n",
       "    <tr>\n",
       "      <th>29446</th>\n",
       "      <td>Owner</td>\n",
       "      <td>BHK</td>\n",
       "      <td>Shamshabad Road,Agra</td>\n",
       "    </tr>\n",
       "    <tr>\n",
       "      <th>29447</th>\n",
       "      <td>Owner</td>\n",
       "      <td>BHK</td>\n",
       "      <td>E3-108, Lake View Recidency,,Vapi</td>\n",
       "    </tr>\n",
       "    <tr>\n",
       "      <th>29448</th>\n",
       "      <td>Dealer</td>\n",
       "      <td>BHK</td>\n",
       "      <td>Ajmer Road,Jaipur</td>\n",
       "    </tr>\n",
       "    <tr>\n",
       "      <th>29449</th>\n",
       "      <td>Owner</td>\n",
       "      <td>BHK</td>\n",
       "      <td>Sholinganallur,Chennai</td>\n",
       "    </tr>\n",
       "    <tr>\n",
       "      <th>29450</th>\n",
       "      <td>Dealer</td>\n",
       "      <td>BHK</td>\n",
       "      <td>Jagatpura,Jaipur</td>\n",
       "    </tr>\n",
       "  </tbody>\n",
       "</table>\n",
       "<p>29451 rows × 3 columns</p>\n",
       "</div>"
      ],
      "text/plain": [
       "      POSTED_BY BHK_OR_RK                            ADDRESS\n",
       "0         Owner       BHK              Ksfc Layout,Bangalore\n",
       "1        Dealer       BHK          Vishweshwara Nagar,Mysore\n",
       "2         Owner       BHK                   Jigani,Bangalore\n",
       "3         Owner       BHK        Sector-1 Vaishali,Ghaziabad\n",
       "4        Dealer       BHK                   New Town,Kolkata\n",
       "...         ...       ...                                ...\n",
       "29446     Owner       BHK               Shamshabad Road,Agra\n",
       "29447     Owner       BHK  E3-108, Lake View Recidency,,Vapi\n",
       "29448    Dealer       BHK                  Ajmer Road,Jaipur\n",
       "29449     Owner       BHK             Sholinganallur,Chennai\n",
       "29450    Dealer       BHK                   Jagatpura,Jaipur\n",
       "\n",
       "[29451 rows x 3 columns]"
      ]
     },
     "execution_count": 10,
     "metadata": {},
     "output_type": "execute_result"
    }
   ],
   "source": [
    "df[cat_cols]"
   ]
  },
  {
   "cell_type": "code",
   "execution_count": 11,
   "metadata": {},
   "outputs": [],
   "source": [
    "##Let's see posted owner"
   ]
  },
  {
   "cell_type": "code",
   "execution_count": 12,
   "metadata": {},
   "outputs": [
    {
     "data": {
      "text/plain": [
       "Dealer     18291\n",
       "Owner      10538\n",
       "Builder      622\n",
       "Name: POSTED_BY, dtype: int64"
      ]
     },
     "execution_count": 12,
     "metadata": {},
     "output_type": "execute_result"
    }
   ],
   "source": [
    "df[\"POSTED_BY\"].value_counts()"
   ]
  },
  {
   "cell_type": "code",
   "execution_count": 13,
   "metadata": {},
   "outputs": [
    {
     "ename": "ValueError",
     "evalue": "could not convert string to float: 'Owner'",
     "output_type": "error",
     "traceback": [
      "\u001b[1;31m---------------------------------------------------------------------------\u001b[0m",
      "\u001b[1;31mValueError\u001b[0m                                Traceback (most recent call last)",
      "Cell \u001b[1;32mIn[13], line 1\u001b[0m\n\u001b[1;32m----> 1\u001b[0m \u001b[43msns\u001b[49m\u001b[38;5;241;43m.\u001b[39;49m\u001b[43mcountplot\u001b[49m\u001b[43m(\u001b[49m\u001b[43mdf\u001b[49m\u001b[43m[\u001b[49m\u001b[38;5;124;43m\"\u001b[39;49m\u001b[38;5;124;43mPOSTED_BY\u001b[39;49m\u001b[38;5;124;43m\"\u001b[39;49m\u001b[43m]\u001b[49m\u001b[43m)\u001b[49m\n",
      "File \u001b[1;32m~\\anaconda3\\lib\\site-packages\\seaborn\\categorical.py:2943\u001b[0m, in \u001b[0;36mcountplot\u001b[1;34m(data, x, y, hue, order, hue_order, orient, color, palette, saturation, width, dodge, ax, **kwargs)\u001b[0m\n\u001b[0;32m   2940\u001b[0m \u001b[38;5;28;01melif\u001b[39;00m x \u001b[38;5;129;01mis\u001b[39;00m \u001b[38;5;129;01mnot\u001b[39;00m \u001b[38;5;28;01mNone\u001b[39;00m \u001b[38;5;129;01mand\u001b[39;00m y \u001b[38;5;129;01mis\u001b[39;00m \u001b[38;5;129;01mnot\u001b[39;00m \u001b[38;5;28;01mNone\u001b[39;00m:\n\u001b[0;32m   2941\u001b[0m     \u001b[38;5;28;01mraise\u001b[39;00m \u001b[38;5;167;01mValueError\u001b[39;00m(\u001b[38;5;124m\"\u001b[39m\u001b[38;5;124mCannot pass values for both `x` and `y`\u001b[39m\u001b[38;5;124m\"\u001b[39m)\n\u001b[1;32m-> 2943\u001b[0m plotter \u001b[38;5;241m=\u001b[39m \u001b[43m_CountPlotter\u001b[49m\u001b[43m(\u001b[49m\n\u001b[0;32m   2944\u001b[0m \u001b[43m    \u001b[49m\u001b[43mx\u001b[49m\u001b[43m,\u001b[49m\u001b[43m \u001b[49m\u001b[43my\u001b[49m\u001b[43m,\u001b[49m\u001b[43m \u001b[49m\u001b[43mhue\u001b[49m\u001b[43m,\u001b[49m\u001b[43m \u001b[49m\u001b[43mdata\u001b[49m\u001b[43m,\u001b[49m\u001b[43m \u001b[49m\u001b[43morder\u001b[49m\u001b[43m,\u001b[49m\u001b[43m \u001b[49m\u001b[43mhue_order\u001b[49m\u001b[43m,\u001b[49m\n\u001b[0;32m   2945\u001b[0m \u001b[43m    \u001b[49m\u001b[43mestimator\u001b[49m\u001b[43m,\u001b[49m\u001b[43m \u001b[49m\u001b[43merrorbar\u001b[49m\u001b[43m,\u001b[49m\u001b[43m \u001b[49m\u001b[43mn_boot\u001b[49m\u001b[43m,\u001b[49m\u001b[43m \u001b[49m\u001b[43munits\u001b[49m\u001b[43m,\u001b[49m\u001b[43m \u001b[49m\u001b[43mseed\u001b[49m\u001b[43m,\u001b[49m\n\u001b[0;32m   2946\u001b[0m \u001b[43m    \u001b[49m\u001b[43morient\u001b[49m\u001b[43m,\u001b[49m\u001b[43m \u001b[49m\u001b[43mcolor\u001b[49m\u001b[43m,\u001b[49m\u001b[43m \u001b[49m\u001b[43mpalette\u001b[49m\u001b[43m,\u001b[49m\u001b[43m \u001b[49m\u001b[43msaturation\u001b[49m\u001b[43m,\u001b[49m\n\u001b[0;32m   2947\u001b[0m \u001b[43m    \u001b[49m\u001b[43mwidth\u001b[49m\u001b[43m,\u001b[49m\u001b[43m \u001b[49m\u001b[43merrcolor\u001b[49m\u001b[43m,\u001b[49m\u001b[43m \u001b[49m\u001b[43merrwidth\u001b[49m\u001b[43m,\u001b[49m\u001b[43m \u001b[49m\u001b[43mcapsize\u001b[49m\u001b[43m,\u001b[49m\u001b[43m \u001b[49m\u001b[43mdodge\u001b[49m\n\u001b[0;32m   2948\u001b[0m \u001b[43m\u001b[49m\u001b[43m)\u001b[49m\n\u001b[0;32m   2950\u001b[0m plotter\u001b[38;5;241m.\u001b[39mvalue_label \u001b[38;5;241m=\u001b[39m \u001b[38;5;124m\"\u001b[39m\u001b[38;5;124mcount\u001b[39m\u001b[38;5;124m\"\u001b[39m\n\u001b[0;32m   2952\u001b[0m \u001b[38;5;28;01mif\u001b[39;00m ax \u001b[38;5;129;01mis\u001b[39;00m \u001b[38;5;28;01mNone\u001b[39;00m:\n",
      "File \u001b[1;32m~\\anaconda3\\lib\\site-packages\\seaborn\\categorical.py:1530\u001b[0m, in \u001b[0;36m_BarPlotter.__init__\u001b[1;34m(self, x, y, hue, data, order, hue_order, estimator, errorbar, n_boot, units, seed, orient, color, palette, saturation, width, errcolor, errwidth, capsize, dodge)\u001b[0m\n\u001b[0;32m   1525\u001b[0m \u001b[38;5;28;01mdef\u001b[39;00m \u001b[38;5;21m__init__\u001b[39m(\u001b[38;5;28mself\u001b[39m, x, y, hue, data, order, hue_order,\n\u001b[0;32m   1526\u001b[0m              estimator, errorbar, n_boot, units, seed,\n\u001b[0;32m   1527\u001b[0m              orient, color, palette, saturation, width,\n\u001b[0;32m   1528\u001b[0m              errcolor, errwidth, capsize, dodge):\n\u001b[0;32m   1529\u001b[0m \u001b[38;5;250m    \u001b[39m\u001b[38;5;124;03m\"\"\"Initialize the plotter.\"\"\"\u001b[39;00m\n\u001b[1;32m-> 1530\u001b[0m     \u001b[38;5;28;43mself\u001b[39;49m\u001b[38;5;241;43m.\u001b[39;49m\u001b[43mestablish_variables\u001b[49m\u001b[43m(\u001b[49m\u001b[43mx\u001b[49m\u001b[43m,\u001b[49m\u001b[43m \u001b[49m\u001b[43my\u001b[49m\u001b[43m,\u001b[49m\u001b[43m \u001b[49m\u001b[43mhue\u001b[49m\u001b[43m,\u001b[49m\u001b[43m \u001b[49m\u001b[43mdata\u001b[49m\u001b[43m,\u001b[49m\u001b[43m \u001b[49m\u001b[43morient\u001b[49m\u001b[43m,\u001b[49m\n\u001b[0;32m   1531\u001b[0m \u001b[43m                             \u001b[49m\u001b[43morder\u001b[49m\u001b[43m,\u001b[49m\u001b[43m \u001b[49m\u001b[43mhue_order\u001b[49m\u001b[43m,\u001b[49m\u001b[43m \u001b[49m\u001b[43munits\u001b[49m\u001b[43m)\u001b[49m\n\u001b[0;32m   1532\u001b[0m     \u001b[38;5;28mself\u001b[39m\u001b[38;5;241m.\u001b[39mestablish_colors(color, palette, saturation)\n\u001b[0;32m   1533\u001b[0m     \u001b[38;5;28mself\u001b[39m\u001b[38;5;241m.\u001b[39mestimate_statistic(estimator, errorbar, n_boot, seed)\n",
      "File \u001b[1;32m~\\anaconda3\\lib\\site-packages\\seaborn\\categorical.py:516\u001b[0m, in \u001b[0;36m_CategoricalPlotter.establish_variables\u001b[1;34m(self, x, y, hue, data, orient, order, hue_order, units)\u001b[0m\n\u001b[0;32m    513\u001b[0m     plot_data \u001b[38;5;241m=\u001b[39m data\n\u001b[0;32m    515\u001b[0m \u001b[38;5;66;03m# Convert to a list of arrays, the common representation\u001b[39;00m\n\u001b[1;32m--> 516\u001b[0m plot_data \u001b[38;5;241m=\u001b[39m [np\u001b[38;5;241m.\u001b[39masarray(d, \u001b[38;5;28mfloat\u001b[39m) \u001b[38;5;28;01mfor\u001b[39;00m d \u001b[38;5;129;01min\u001b[39;00m plot_data]\n\u001b[0;32m    518\u001b[0m \u001b[38;5;66;03m# The group names will just be numeric indices\u001b[39;00m\n\u001b[0;32m    519\u001b[0m group_names \u001b[38;5;241m=\u001b[39m \u001b[38;5;28mlist\u001b[39m(\u001b[38;5;28mrange\u001b[39m(\u001b[38;5;28mlen\u001b[39m(plot_data)))\n",
      "File \u001b[1;32m~\\anaconda3\\lib\\site-packages\\seaborn\\categorical.py:516\u001b[0m, in \u001b[0;36m<listcomp>\u001b[1;34m(.0)\u001b[0m\n\u001b[0;32m    513\u001b[0m     plot_data \u001b[38;5;241m=\u001b[39m data\n\u001b[0;32m    515\u001b[0m \u001b[38;5;66;03m# Convert to a list of arrays, the common representation\u001b[39;00m\n\u001b[1;32m--> 516\u001b[0m plot_data \u001b[38;5;241m=\u001b[39m [\u001b[43mnp\u001b[49m\u001b[38;5;241;43m.\u001b[39;49m\u001b[43masarray\u001b[49m\u001b[43m(\u001b[49m\u001b[43md\u001b[49m\u001b[43m,\u001b[49m\u001b[43m \u001b[49m\u001b[38;5;28;43mfloat\u001b[39;49m\u001b[43m)\u001b[49m \u001b[38;5;28;01mfor\u001b[39;00m d \u001b[38;5;129;01min\u001b[39;00m plot_data]\n\u001b[0;32m    518\u001b[0m \u001b[38;5;66;03m# The group names will just be numeric indices\u001b[39;00m\n\u001b[0;32m    519\u001b[0m group_names \u001b[38;5;241m=\u001b[39m \u001b[38;5;28mlist\u001b[39m(\u001b[38;5;28mrange\u001b[39m(\u001b[38;5;28mlen\u001b[39m(plot_data)))\n",
      "File \u001b[1;32m~\\anaconda3\\lib\\site-packages\\pandas\\core\\series.py:893\u001b[0m, in \u001b[0;36mSeries.__array__\u001b[1;34m(self, dtype)\u001b[0m\n\u001b[0;32m    846\u001b[0m \u001b[38;5;28;01mdef\u001b[39;00m \u001b[38;5;21m__array__\u001b[39m(\u001b[38;5;28mself\u001b[39m, dtype: npt\u001b[38;5;241m.\u001b[39mDTypeLike \u001b[38;5;241m|\u001b[39m \u001b[38;5;28;01mNone\u001b[39;00m \u001b[38;5;241m=\u001b[39m \u001b[38;5;28;01mNone\u001b[39;00m) \u001b[38;5;241m-\u001b[39m\u001b[38;5;241m>\u001b[39m np\u001b[38;5;241m.\u001b[39mndarray:\n\u001b[0;32m    847\u001b[0m \u001b[38;5;250m    \u001b[39m\u001b[38;5;124;03m\"\"\"\u001b[39;00m\n\u001b[0;32m    848\u001b[0m \u001b[38;5;124;03m    Return the values as a NumPy array.\u001b[39;00m\n\u001b[0;32m    849\u001b[0m \n\u001b[1;32m   (...)\u001b[0m\n\u001b[0;32m    891\u001b[0m \u001b[38;5;124;03m          dtype='datetime64[ns]')\u001b[39;00m\n\u001b[0;32m    892\u001b[0m \u001b[38;5;124;03m    \"\"\"\u001b[39;00m\n\u001b[1;32m--> 893\u001b[0m     \u001b[38;5;28;01mreturn\u001b[39;00m \u001b[43mnp\u001b[49m\u001b[38;5;241;43m.\u001b[39;49m\u001b[43masarray\u001b[49m\u001b[43m(\u001b[49m\u001b[38;5;28;43mself\u001b[39;49m\u001b[38;5;241;43m.\u001b[39;49m\u001b[43m_values\u001b[49m\u001b[43m,\u001b[49m\u001b[43m \u001b[49m\u001b[43mdtype\u001b[49m\u001b[43m)\u001b[49m\n",
      "\u001b[1;31mValueError\u001b[0m: could not convert string to float: 'Owner'"
     ]
    }
   ],
   "source": [
    "sns.countplot(df[\"POSTED_BY\"])"
   ]
  },
  {
   "cell_type": "code",
   "execution_count": 14,
   "metadata": {},
   "outputs": [
    {
     "data": {
      "text/plain": [
       "POSTED_BY\n",
       "Builder    245.705627\n",
       "Dealer     186.774735\n",
       "Owner       60.674264\n",
       "Name: TARGET(PRICE_IN_LACS), dtype: float64"
      ]
     },
     "execution_count": 14,
     "metadata": {},
     "output_type": "execute_result"
    }
   ],
   "source": [
    "## Let's See How Price of the House Varies According the Posted member\n",
    "df.groupby(\"POSTED_BY\")[\"TARGET(PRICE_IN_LACS)\"].mean()"
   ]
  },
  {
   "cell_type": "code",
   "execution_count": 15,
   "metadata": {},
   "outputs": [],
   "source": [
    "## As you can see ,if Builder Posts the project it will be higher price."
   ]
  },
  {
   "cell_type": "code",
   "execution_count": 16,
   "metadata": {},
   "outputs": [
    {
     "data": {
      "text/plain": [
       "0    24157\n",
       "1     5294\n",
       "Name: UNDER_CONSTRUCTION, dtype: int64"
      ]
     },
     "execution_count": 16,
     "metadata": {},
     "output_type": "execute_result"
    }
   ],
   "source": [
    "## let's see how many buildings are in construction\n",
    "df[\"UNDER_CONSTRUCTION\"].value_counts()"
   ]
  },
  {
   "cell_type": "code",
   "execution_count": 17,
   "metadata": {},
   "outputs": [
    {
     "data": {
      "text/plain": [
       "<Axes: ylabel='count'>"
      ]
     },
     "execution_count": 17,
     "metadata": {},
     "output_type": "execute_result"
    },
    {
     "data": {
      "image/png": "[encoded data removed]",
      "text/plain": [
       "<Figure size 640x480 with 1 Axes>"
      ]
     },
     "metadata": {},
     "output_type": "display_data"
    }
   ],
   "source": [
    "sns.countplot(df[\"UNDER_CONSTRUCTION\"])"
   ]
  },
  {
   "cell_type": "code",
   "execution_count": 18,
   "metadata": {},
   "outputs": [
    {
     "data": {
      "text/plain": [
       "0    20088\n",
       "1     9363\n",
       "Name: RERA, dtype: int64"
      ]
     },
     "execution_count": 18,
     "metadata": {},
     "output_type": "execute_result"
    }
   ],
   "source": [
    "## Let's Visulaize the Rera columns\n",
    "##RERA- Rear state regularity Act\n",
    "## It was formed to bring transperency in Real Estate Sector\n",
    "df[\"RERA\"].value_counts()"
   ]
  },
  {
   "cell_type": "code",
   "execution_count": 19,
   "metadata": {},
   "outputs": [
    {
     "data": {
      "text/plain": [
       "<Axes: ylabel='count'>"
      ]
     },
     "execution_count": 19,
     "metadata": {},
     "output_type": "execute_result"
    },
    {
     "data": {
      "image/png": "[encoded data removed]",
      "text/plain": [
       "<Figure size 640x480 with 1 Axes>"
      ]
     },
     "metadata": {},
     "output_type": "display_data"
    }
   ],
   "source": [
    "sns.countplot(df[\"RERA\"])"
   ]
  },
  {
   "cell_type": "code",
   "execution_count": 20,
   "metadata": {},
   "outputs": [
    {
     "data": {
      "text/plain": [
       "<Axes: xlabel='RERA'>"
      ]
     },
     "execution_count": 20,
     "metadata": {},
     "output_type": "execute_result"
    },
    {
     "data": {
      "image/png": "[encoded data removed]",
      "text/plain": [
       "<Figure size 640x480 with 1 Axes>"
      ]
     },
     "metadata": {},
     "output_type": "display_data"
    }
   ],
   "source": [
    "df.groupby(\"RERA\")[\"TARGET(PRICE_IN_LACS)\"].mean().plot(kind=\"bar\",grid=True)"
   ]
  },
  {
   "cell_type": "code",
   "execution_count": 21,
   "metadata": {},
   "outputs": [],
   "source": [
    "## It is ovibous that RERA approved buliding are of Higher Price\n",
    "##Because it aims to reduce project delays and mis-selling."
   ]
  },
  {
   "cell_type": "code",
   "execution_count": 22,
   "metadata": {},
   "outputs": [
    {
     "data": {
      "text/plain": [
       "2     13324\n",
       "3     10546\n",
       "1      3574\n",
       "4      1723\n",
       "5       190\n",
       "6        52\n",
       "7        11\n",
       "8        10\n",
       "20        4\n",
       "10        4\n",
       "15        4\n",
       "12        3\n",
       "9         3\n",
       "13        1\n",
       "17        1\n",
       "11        1\n",
       "Name: BHK_NO., dtype: int64"
      ]
     },
     "execution_count": 22,
     "metadata": {},
     "output_type": "execute_result"
    }
   ],
   "source": [
    "## Let's See on BHK_NO which represents number of rooms\n",
    "df[\"BHK_NO.\"].value_counts()"
   ]
  },
  {
   "cell_type": "code",
   "execution_count": 23,
   "metadata": {},
   "outputs": [],
   "source": [
    "##As we can see we number of rooms ranging from 1 to 17\n",
    "#But generally we don't have more than 6 columns as you can see from the distribution\n",
    "## The values that are greater than 6 can be treated as potential outliers\n",
    "## Let's Remove this Values From Our dataset\n",
    "df2=df[df[\"BHK_NO.\"]<7]"
   ]
  },
  {
   "cell_type": "code",
   "execution_count": 24,
   "metadata": {},
   "outputs": [
    {
     "data": {
      "text/plain": [
       "(29409, 12)"
      ]
     },
     "execution_count": 24,
     "metadata": {},
     "output_type": "execute_result"
    }
   ],
   "source": [
    "df2.shape"
   ]
  },
  {
   "cell_type": "code",
   "execution_count": 25,
   "metadata": {},
   "outputs": [
    {
     "data": {
      "text/plain": [
       "99.85739024141796"
      ]
     },
     "execution_count": 25,
     "metadata": {},
     "output_type": "execute_result"
    }
   ],
   "source": [
    "len(df2)/len(df)*100"
   ]
  },
  {
   "cell_type": "code",
   "execution_count": 26,
   "metadata": {},
   "outputs": [
    {
     "data": {
      "text/plain": [
       "2    13324\n",
       "3    10546\n",
       "1     3574\n",
       "4     1723\n",
       "5      190\n",
       "6       52\n",
       "Name: BHK_NO., dtype: int64"
      ]
     },
     "execution_count": 26,
     "metadata": {},
     "output_type": "execute_result"
    }
   ],
   "source": [
    "df2[\"BHK_NO.\"].value_counts()"
   ]
  },
  {
   "cell_type": "code",
   "execution_count": 27,
   "metadata": {},
   "outputs": [
    {
     "data": {
      "text/plain": [
       "BHK_NO.\n",
       "1     72.563433\n",
       "2     97.176584\n",
       "3    176.329423\n",
       "4    350.820255\n",
       "5    604.187895\n",
       "6    868.842308\n",
       "Name: TARGET(PRICE_IN_LACS), dtype: float64"
      ]
     },
     "execution_count": 27,
     "metadata": {},
     "output_type": "execute_result"
    }
   ],
   "source": [
    "df2.groupby([\"BHK_NO.\"])[\"TARGET(PRICE_IN_LACS)\"].mean()"
   ]
  },
  {
   "cell_type": "code",
   "execution_count": 28,
   "metadata": {},
   "outputs": [],
   "source": [
    "## As you can see as the number of rooms increases , price of the house decrease"
   ]
  },
  {
   "cell_type": "code",
   "execution_count": 29,
   "metadata": {},
   "outputs": [
    {
     "data": {
      "text/plain": [
       "BHK    29385\n",
       "RK        24\n",
       "Name: BHK_OR_RK, dtype: int64"
      ]
     },
     "execution_count": 29,
     "metadata": {},
     "output_type": "execute_result"
    }
   ],
   "source": [
    "## Let's See how many are RK and How Many are BHK\n",
    "df2[\"BHK_OR_RK\"].value_counts()"
   ]
  },
  {
   "cell_type": "code",
   "execution_count": 30,
   "metadata": {},
   "outputs": [],
   "source": [
    "## RK means Rooms and Kitchen which mean in a single big room there is kitchen and room attached \n",
    "## These type of housese are rare and used in old days"
   ]
  },
  {
   "cell_type": "code",
   "execution_count": 31,
   "metadata": {},
   "outputs": [
    {
     "data": {
      "text/plain": [
       "1    24\n",
       "Name: BHK_NO., dtype: int64"
      ]
     },
     "execution_count": 31,
     "metadata": {},
     "output_type": "execute_result"
    }
   ],
   "source": [
    "df2[df2[\"BHK_OR_RK\"]==\"RK\"][\"BHK_NO.\"].value_counts()"
   ]
  },
  {
   "cell_type": "code",
   "execution_count": 32,
   "metadata": {},
   "outputs": [],
   "source": [
    "## As you can see these are only single rooms\n",
    "## Hence it would be better to remove these values.\n",
    "## As after removing this value we have only BHK value left in that column , It would be better to remove this columns"
   ]
  },
  {
   "cell_type": "code",
   "execution_count": 33,
   "metadata": {},
   "outputs": [],
   "source": [
    "df3=df2[df2[\"BHK_OR_RK\"]!=\"RK\"]"
   ]
  },
  {
   "cell_type": "code",
   "execution_count": 34,
   "metadata": {},
   "outputs": [],
   "source": [
    "df3.drop(columns=[\"BHK_OR_RK\"],inplace=True)"
   ]
  },
  {
   "cell_type": "code",
   "execution_count": 35,
   "metadata": {},
   "outputs": [
    {
     "data": {
      "text/html": [
       "<div>\n",
       "<style scoped>\n",
       "    .dataframe tbody tr th:only-of-type {\n",
       "        vertical-align: middle;\n",
       "    }\n",
       "\n",
       "    .dataframe tbody tr th {\n",
       "        vertical-align: top;\n",
       "    }\n",
       "\n",
       "    .dataframe thead th {\n",
       "        text-align: right;\n",
       "    }\n",
       "</style>\n",
       "<table border=\"1\" class=\"dataframe\">\n",
       "  <thead>\n",
       "    <tr style=\"text-align: right;\">\n",
       "      <th></th>\n",
       "      <th>POSTED_BY</th>\n",
       "      <th>UNDER_CONSTRUCTION</th>\n",
       "      <th>RERA</th>\n",
       "      <th>BHK_NO.</th>\n",
       "      <th>SQUARE_FT</th>\n",
       "      <th>READY_TO_MOVE</th>\n",
       "      <th>RESALE</th>\n",
       "      <th>ADDRESS</th>\n",
       "      <th>LONGITUDE</th>\n",
       "      <th>LATITUDE</th>\n",
       "      <th>TARGET(PRICE_IN_LACS)</th>\n",
       "    </tr>\n",
       "  </thead>\n",
       "  <tbody>\n",
       "    <tr>\n",
       "      <th>0</th>\n",
       "      <td>Owner</td>\n",
       "      <td>0</td>\n",
       "      <td>0</td>\n",
       "      <td>2</td>\n",
       "      <td>1300.236407</td>\n",
       "      <td>1</td>\n",
       "      <td>1</td>\n",
       "      <td>Ksfc Layout,Bangalore</td>\n",
       "      <td>12.969910</td>\n",
       "      <td>77.597960</td>\n",
       "      <td>55.0</td>\n",
       "    </tr>\n",
       "    <tr>\n",
       "      <th>1</th>\n",
       "      <td>Dealer</td>\n",
       "      <td>0</td>\n",
       "      <td>0</td>\n",
       "      <td>2</td>\n",
       "      <td>1275.000000</td>\n",
       "      <td>1</td>\n",
       "      <td>1</td>\n",
       "      <td>Vishweshwara Nagar,Mysore</td>\n",
       "      <td>12.274538</td>\n",
       "      <td>76.644605</td>\n",
       "      <td>51.0</td>\n",
       "    </tr>\n",
       "    <tr>\n",
       "      <th>2</th>\n",
       "      <td>Owner</td>\n",
       "      <td>0</td>\n",
       "      <td>0</td>\n",
       "      <td>2</td>\n",
       "      <td>933.159722</td>\n",
       "      <td>1</td>\n",
       "      <td>1</td>\n",
       "      <td>Jigani,Bangalore</td>\n",
       "      <td>12.778033</td>\n",
       "      <td>77.632191</td>\n",
       "      <td>43.0</td>\n",
       "    </tr>\n",
       "    <tr>\n",
       "      <th>3</th>\n",
       "      <td>Owner</td>\n",
       "      <td>0</td>\n",
       "      <td>1</td>\n",
       "      <td>2</td>\n",
       "      <td>929.921143</td>\n",
       "      <td>1</td>\n",
       "      <td>1</td>\n",
       "      <td>Sector-1 Vaishali,Ghaziabad</td>\n",
       "      <td>28.642300</td>\n",
       "      <td>77.344500</td>\n",
       "      <td>62.5</td>\n",
       "    </tr>\n",
       "    <tr>\n",
       "      <th>4</th>\n",
       "      <td>Dealer</td>\n",
       "      <td>1</td>\n",
       "      <td>0</td>\n",
       "      <td>2</td>\n",
       "      <td>999.009247</td>\n",
       "      <td>0</td>\n",
       "      <td>1</td>\n",
       "      <td>New Town,Kolkata</td>\n",
       "      <td>22.592200</td>\n",
       "      <td>88.484911</td>\n",
       "      <td>60.5</td>\n",
       "    </tr>\n",
       "  </tbody>\n",
       "</table>\n",
       "</div>"
      ],
      "text/plain": [
       "  POSTED_BY  UNDER_CONSTRUCTION  RERA  BHK_NO.    SQUARE_FT  READY_TO_MOVE  \\\n",
       "0     Owner                   0     0        2  1300.236407              1   \n",
       "1    Dealer                   0     0        2  1275.000000              1   \n",
       "2     Owner                   0     0        2   933.159722              1   \n",
       "3     Owner                   0     1        2   929.921143              1   \n",
       "4    Dealer                   1     0        2   999.009247              0   \n",
       "\n",
       "   RESALE                      ADDRESS  LONGITUDE   LATITUDE  \\\n",
       "0       1        Ksfc Layout,Bangalore  12.969910  77.597960   \n",
       "1       1    Vishweshwara Nagar,Mysore  12.274538  76.644605   \n",
       "2       1             Jigani,Bangalore  12.778033  77.632191   \n",
       "3       1  Sector-1 Vaishali,Ghaziabad  28.642300  77.344500   \n",
       "4       1             New Town,Kolkata  22.592200  88.484911   \n",
       "\n",
       "   TARGET(PRICE_IN_LACS)  \n",
       "0                   55.0  \n",
       "1                   51.0  \n",
       "2                   43.0  \n",
       "3                   62.5  \n",
       "4                   60.5  "
      ]
     },
     "execution_count": 35,
     "metadata": {},
     "output_type": "execute_result"
    }
   ],
   "source": [
    "df3.head()"
   ]
  },
  {
   "cell_type": "code",
   "execution_count": 36,
   "metadata": {},
   "outputs": [
    {
     "data": {
      "text/plain": [
       "0        1300.236407\n",
       "1        1275.000000\n",
       "2         933.159722\n",
       "3         929.921143\n",
       "4         999.009247\n",
       "            ...     \n",
       "29446    2500.000000\n",
       "29447     769.230769\n",
       "29448    1022.641509\n",
       "29449     927.079009\n",
       "29450     896.774194\n",
       "Name: SQUARE_FT, Length: 29451, dtype: float64"
      ]
     },
     "execution_count": 36,
     "metadata": {},
     "output_type": "execute_result"
    }
   ],
   "source": [
    "## Let's See SQUARE_FT columns\n",
    "df[\"SQUARE_FT\"]"
   ]
  },
  {
   "cell_type": "code",
   "execution_count": 37,
   "metadata": {},
   "outputs": [
    {
     "ename": "KeyboardInterrupt",
     "evalue": "",
     "output_type": "error",
     "traceback": [
      "\u001b[1;31m---------------------------------------------------------------------------\u001b[0m",
      "\u001b[1;31mTypeError\u001b[0m                                 Traceback (most recent call last)",
      "File \u001b[1;32m~\\anaconda3\\lib\\site-packages\\numpy\\lib\\function_base.py:385\u001b[0m, in \u001b[0;36miterable\u001b[1;34m(y)\u001b[0m\n\u001b[0;32m    384\u001b[0m \u001b[38;5;28;01mtry\u001b[39;00m:\n\u001b[1;32m--> 385\u001b[0m     \u001b[38;5;28;43miter\u001b[39;49m\u001b[43m(\u001b[49m\u001b[43my\u001b[49m\u001b[43m)\u001b[49m\n\u001b[0;32m    386\u001b[0m \u001b[38;5;28;01mexcept\u001b[39;00m \u001b[38;5;167;01mTypeError\u001b[39;00m:\n",
      "\u001b[1;31mTypeError\u001b[0m: 'numpy.int64' object is not iterable",
      "\nDuring handling of the above exception, another exception occurred:\n",
      "\u001b[1;31mKeyboardInterrupt\u001b[0m                         Traceback (most recent call last)",
      "Cell \u001b[1;32mIn[37], line 2\u001b[0m\n\u001b[0;32m      1\u001b[0m plt\u001b[38;5;241m.\u001b[39mfigure(figsize\u001b[38;5;241m=\u001b[39m(\u001b[38;5;241m10\u001b[39m,\u001b[38;5;241m5\u001b[39m))\n\u001b[1;32m----> 2\u001b[0m \u001b[43msns\u001b[49m\u001b[38;5;241;43m.\u001b[39;49m\u001b[43mdisplot\u001b[49m\u001b[43m(\u001b[49m\u001b[43mdf3\u001b[49m\u001b[43m[\u001b[49m\u001b[38;5;124;43m\"\u001b[39;49m\u001b[38;5;124;43mSQUARE_FT\u001b[39;49m\u001b[38;5;124;43m\"\u001b[39;49m\u001b[43m]\u001b[49m\u001b[43m)\u001b[49m\n",
      "File \u001b[1;32m~\\anaconda3\\lib\\site-packages\\seaborn\\distributions.py:2210\u001b[0m, in \u001b[0;36mdisplot\u001b[1;34m(data, x, y, hue, row, col, weights, kind, rug, rug_kws, log_scale, legend, palette, hue_order, hue_norm, color, col_wrap, row_order, col_order, height, aspect, facet_kws, **kwargs)\u001b[0m\n\u001b[0;32m   2207\u001b[0m \u001b[38;5;28;01mif\u001b[39;00m p\u001b[38;5;241m.\u001b[39munivariate:\n\u001b[0;32m   2209\u001b[0m     _assign_default_kwargs(hist_kws, p\u001b[38;5;241m.\u001b[39mplot_univariate_histogram, histplot)\n\u001b[1;32m-> 2210\u001b[0m     p\u001b[38;5;241m.\u001b[39mplot_univariate_histogram(\u001b[38;5;241m*\u001b[39m\u001b[38;5;241m*\u001b[39mhist_kws)\n\u001b[0;32m   2212\u001b[0m \u001b[38;5;28;01melse\u001b[39;00m:\n\u001b[0;32m   2214\u001b[0m     _assign_default_kwargs(hist_kws, p\u001b[38;5;241m.\u001b[39mplot_bivariate_histogram, histplot)\n",
      "File \u001b[1;32m~\\anaconda3\\lib\\site-packages\\seaborn\\distributions.py:575\u001b[0m, in \u001b[0;36m_DistributionPlotter.plot_univariate_histogram\u001b[1;34m(self, multiple, element, fill, common_norm, common_bins, shrink, kde, kde_kws, color, legend, line_kws, estimate_kws, **plot_kws)\u001b[0m\n\u001b[0;32m    570\u001b[0m \u001b[38;5;28;01mif\u001b[39;00m element \u001b[38;5;241m==\u001b[39m \u001b[38;5;124m\"\u001b[39m\u001b[38;5;124mbars\u001b[39m\u001b[38;5;124m\"\u001b[39m:\n\u001b[0;32m    571\u001b[0m \n\u001b[0;32m    572\u001b[0m     \u001b[38;5;66;03m# Use matplotlib bar plotting\u001b[39;00m\n\u001b[0;32m    574\u001b[0m     plot_func \u001b[38;5;241m=\u001b[39m ax\u001b[38;5;241m.\u001b[39mbar \u001b[38;5;28;01mif\u001b[39;00m \u001b[38;5;28mself\u001b[39m\u001b[38;5;241m.\u001b[39mdata_variable \u001b[38;5;241m==\u001b[39m \u001b[38;5;124m\"\u001b[39m\u001b[38;5;124mx\u001b[39m\u001b[38;5;124m\"\u001b[39m \u001b[38;5;28;01melse\u001b[39;00m ax\u001b[38;5;241m.\u001b[39mbarh\n\u001b[1;32m--> 575\u001b[0m     artists \u001b[38;5;241m=\u001b[39m plot_func(\n\u001b[0;32m    576\u001b[0m         hist[\u001b[38;5;124m\"\u001b[39m\u001b[38;5;124medges\u001b[39m\u001b[38;5;124m\"\u001b[39m],\n\u001b[0;32m    577\u001b[0m         hist[\u001b[38;5;124m\"\u001b[39m\u001b[38;5;124mheights\u001b[39m\u001b[38;5;124m\"\u001b[39m] \u001b[38;5;241m-\u001b[39m bottom,\n\u001b[0;32m    578\u001b[0m         hist[\u001b[38;5;124m\"\u001b[39m\u001b[38;5;124mwidths\u001b[39m\u001b[38;5;124m\"\u001b[39m],\n\u001b[0;32m    579\u001b[0m         bottom,\n\u001b[0;32m    580\u001b[0m         align\u001b[38;5;241m=\u001b[39m\u001b[38;5;124m\"\u001b[39m\u001b[38;5;124medge\u001b[39m\u001b[38;5;124m\"\u001b[39m,\n\u001b[0;32m    581\u001b[0m         \u001b[38;5;241m*\u001b[39m\u001b[38;5;241m*\u001b[39martist_kws,\n\u001b[0;32m    582\u001b[0m     )\n\u001b[0;32m    584\u001b[0m     \u001b[38;5;28;01mfor\u001b[39;00m bar \u001b[38;5;129;01min\u001b[39;00m artists:\n\u001b[0;32m    585\u001b[0m         \u001b[38;5;28;01mif\u001b[39;00m \u001b[38;5;28mself\u001b[39m\u001b[38;5;241m.\u001b[39mdata_variable \u001b[38;5;241m==\u001b[39m \u001b[38;5;124m\"\u001b[39m\u001b[38;5;124mx\u001b[39m\u001b[38;5;124m\"\u001b[39m:\n",
      "File \u001b[1;32m~\\anaconda3\\lib\\site-packages\\matplotlib\\__init__.py:1442\u001b[0m, in \u001b[0;36m_preprocess_data.<locals>.inner\u001b[1;34m(ax, data, *args, **kwargs)\u001b[0m\n\u001b[0;32m   1439\u001b[0m \u001b[38;5;129m@functools\u001b[39m\u001b[38;5;241m.\u001b[39mwraps(func)\n\u001b[0;32m   1440\u001b[0m \u001b[38;5;28;01mdef\u001b[39;00m \u001b[38;5;21minner\u001b[39m(ax, \u001b[38;5;241m*\u001b[39margs, data\u001b[38;5;241m=\u001b[39m\u001b[38;5;28;01mNone\u001b[39;00m, \u001b[38;5;241m*\u001b[39m\u001b[38;5;241m*\u001b[39mkwargs):\n\u001b[0;32m   1441\u001b[0m     \u001b[38;5;28;01mif\u001b[39;00m data \u001b[38;5;129;01mis\u001b[39;00m \u001b[38;5;28;01mNone\u001b[39;00m:\n\u001b[1;32m-> 1442\u001b[0m         \u001b[38;5;28;01mreturn\u001b[39;00m func(ax, \u001b[38;5;241m*\u001b[39m\u001b[38;5;28mmap\u001b[39m(sanitize_sequence, args), \u001b[38;5;241m*\u001b[39m\u001b[38;5;241m*\u001b[39mkwargs)\n\u001b[0;32m   1444\u001b[0m     bound \u001b[38;5;241m=\u001b[39m new_sig\u001b[38;5;241m.\u001b[39mbind(ax, \u001b[38;5;241m*\u001b[39margs, \u001b[38;5;241m*\u001b[39m\u001b[38;5;241m*\u001b[39mkwargs)\n\u001b[0;32m   1445\u001b[0m     auto_label \u001b[38;5;241m=\u001b[39m (bound\u001b[38;5;241m.\u001b[39marguments\u001b[38;5;241m.\u001b[39mget(label_namer)\n\u001b[0;32m   1446\u001b[0m                   \u001b[38;5;129;01mor\u001b[39;00m bound\u001b[38;5;241m.\u001b[39mkwargs\u001b[38;5;241m.\u001b[39mget(label_namer))\n",
      "File \u001b[1;32m~\\anaconda3\\lib\\site-packages\\matplotlib\\axes\\_axes.py:2413\u001b[0m, in \u001b[0;36mAxes.bar\u001b[1;34m(self, x, height, width, bottom, align, **kwargs)\u001b[0m\n\u001b[0;32m   2411\u001b[0m y0 \u001b[38;5;241m=\u001b[39m y\n\u001b[0;32m   2412\u001b[0m y \u001b[38;5;241m=\u001b[39m np\u001b[38;5;241m.\u001b[39masarray(\u001b[38;5;28mself\u001b[39m\u001b[38;5;241m.\u001b[39mconvert_yunits(y))\n\u001b[1;32m-> 2413\u001b[0m height \u001b[38;5;241m=\u001b[39m \u001b[38;5;28;43mself\u001b[39;49m\u001b[38;5;241;43m.\u001b[39;49m\u001b[43m_convert_dx\u001b[49m\u001b[43m(\u001b[49m\u001b[43mheight\u001b[49m\u001b[43m,\u001b[49m\u001b[43m \u001b[49m\u001b[43my0\u001b[49m\u001b[43m,\u001b[49m\u001b[43m \u001b[49m\u001b[43my\u001b[49m\u001b[43m,\u001b[49m\u001b[43m \u001b[49m\u001b[38;5;28;43mself\u001b[39;49m\u001b[38;5;241;43m.\u001b[39;49m\u001b[43mconvert_yunits\u001b[49m\u001b[43m)\u001b[49m\n\u001b[0;32m   2414\u001b[0m \u001b[38;5;28;01mif\u001b[39;00m yerr \u001b[38;5;129;01mis\u001b[39;00m \u001b[38;5;129;01mnot\u001b[39;00m \u001b[38;5;28;01mNone\u001b[39;00m:\n\u001b[0;32m   2415\u001b[0m     yerr \u001b[38;5;241m=\u001b[39m \u001b[38;5;28mself\u001b[39m\u001b[38;5;241m.\u001b[39m_convert_dx(yerr, y0, y, \u001b[38;5;28mself\u001b[39m\u001b[38;5;241m.\u001b[39mconvert_yunits)\n",
      "File \u001b[1;32m~\\anaconda3\\lib\\site-packages\\matplotlib\\axes\\_axes.py:2229\u001b[0m, in \u001b[0;36mAxes._convert_dx\u001b[1;34m(dx, x0, xconv, convert)\u001b[0m\n\u001b[0;32m   2227\u001b[0m     dx \u001b[38;5;241m=\u001b[39m [dx]\n\u001b[0;32m   2228\u001b[0m     delist \u001b[38;5;241m=\u001b[39m \u001b[38;5;28;01mTrue\u001b[39;00m\n\u001b[1;32m-> 2229\u001b[0m dx \u001b[38;5;241m=\u001b[39m [convert(x0 \u001b[38;5;241m+\u001b[39m ddx) \u001b[38;5;241m-\u001b[39m x \u001b[38;5;28;01mfor\u001b[39;00m ddx \u001b[38;5;129;01min\u001b[39;00m dx]\n\u001b[0;32m   2230\u001b[0m \u001b[38;5;28;01mif\u001b[39;00m delist:\n\u001b[0;32m   2231\u001b[0m     dx \u001b[38;5;241m=\u001b[39m dx[\u001b[38;5;241m0\u001b[39m]\n",
      "File \u001b[1;32m~\\anaconda3\\lib\\site-packages\\matplotlib\\axes\\_axes.py:2229\u001b[0m, in \u001b[0;36m<listcomp>\u001b[1;34m(.0)\u001b[0m\n\u001b[0;32m   2227\u001b[0m     dx \u001b[38;5;241m=\u001b[39m [dx]\n\u001b[0;32m   2228\u001b[0m     delist \u001b[38;5;241m=\u001b[39m \u001b[38;5;28;01mTrue\u001b[39;00m\n\u001b[1;32m-> 2229\u001b[0m dx \u001b[38;5;241m=\u001b[39m [\u001b[43mconvert\u001b[49m\u001b[43m(\u001b[49m\u001b[43mx0\u001b[49m\u001b[43m \u001b[49m\u001b[38;5;241;43m+\u001b[39;49m\u001b[43m \u001b[49m\u001b[43mddx\u001b[49m\u001b[43m)\u001b[49m \u001b[38;5;241m-\u001b[39m x \u001b[38;5;28;01mfor\u001b[39;00m ddx \u001b[38;5;129;01min\u001b[39;00m dx]\n\u001b[0;32m   2230\u001b[0m \u001b[38;5;28;01mif\u001b[39;00m delist:\n\u001b[0;32m   2231\u001b[0m     dx \u001b[38;5;241m=\u001b[39m dx[\u001b[38;5;241m0\u001b[39m]\n",
      "File \u001b[1;32m~\\anaconda3\\lib\\site-packages\\matplotlib\\artist.py:293\u001b[0m, in \u001b[0;36mArtist.convert_yunits\u001b[1;34m(self, y)\u001b[0m\n\u001b[0;32m    291\u001b[0m \u001b[38;5;28;01mif\u001b[39;00m ax \u001b[38;5;129;01mis\u001b[39;00m \u001b[38;5;28;01mNone\u001b[39;00m \u001b[38;5;129;01mor\u001b[39;00m ax\u001b[38;5;241m.\u001b[39myaxis \u001b[38;5;129;01mis\u001b[39;00m \u001b[38;5;28;01mNone\u001b[39;00m:\n\u001b[0;32m    292\u001b[0m     \u001b[38;5;28;01mreturn\u001b[39;00m y\n\u001b[1;32m--> 293\u001b[0m \u001b[38;5;28;01mreturn\u001b[39;00m \u001b[43max\u001b[49m\u001b[38;5;241;43m.\u001b[39;49m\u001b[43myaxis\u001b[49m\u001b[38;5;241;43m.\u001b[39;49m\u001b[43mconvert_units\u001b[49m\u001b[43m(\u001b[49m\u001b[43my\u001b[49m\u001b[43m)\u001b[49m\n",
      "File \u001b[1;32m~\\anaconda3\\lib\\site-packages\\matplotlib\\axis.py:1727\u001b[0m, in \u001b[0;36mAxis.convert_units\u001b[1;34m(self, x)\u001b[0m\n\u001b[0;32m   1725\u001b[0m \u001b[38;5;28;01mdef\u001b[39;00m \u001b[38;5;21mconvert_units\u001b[39m(\u001b[38;5;28mself\u001b[39m, x):\n\u001b[0;32m   1726\u001b[0m     \u001b[38;5;66;03m# If x is natively supported by Matplotlib, doesn't need converting\u001b[39;00m\n\u001b[1;32m-> 1727\u001b[0m     \u001b[38;5;28;01mif\u001b[39;00m \u001b[43mmunits\u001b[49m\u001b[38;5;241;43m.\u001b[39;49m\u001b[43m_is_natively_supported\u001b[49m\u001b[43m(\u001b[49m\u001b[43mx\u001b[49m\u001b[43m)\u001b[49m:\n\u001b[0;32m   1728\u001b[0m         \u001b[38;5;28;01mreturn\u001b[39;00m x\n\u001b[0;32m   1730\u001b[0m     \u001b[38;5;28;01mif\u001b[39;00m \u001b[38;5;28mself\u001b[39m\u001b[38;5;241m.\u001b[39mconverter \u001b[38;5;129;01mis\u001b[39;00m \u001b[38;5;28;01mNone\u001b[39;00m:\n",
      "File \u001b[1;32m~\\anaconda3\\lib\\site-packages\\matplotlib\\units.py:62\u001b[0m, in \u001b[0;36m_is_natively_supported\u001b[1;34m(x)\u001b[0m\n\u001b[0;32m     57\u001b[0m \u001b[38;5;250m\u001b[39m\u001b[38;5;124;03m\"\"\"\u001b[39;00m\n\u001b[0;32m     58\u001b[0m \u001b[38;5;124;03mReturn whether *x* is of a type that Matplotlib natively supports or an\u001b[39;00m\n\u001b[0;32m     59\u001b[0m \u001b[38;5;124;03marray of objects of such types.\u001b[39;00m\n\u001b[0;32m     60\u001b[0m \u001b[38;5;124;03m\"\"\"\u001b[39;00m\n\u001b[0;32m     61\u001b[0m \u001b[38;5;66;03m# Matplotlib natively supports all number types except Decimal.\u001b[39;00m\n\u001b[1;32m---> 62\u001b[0m \u001b[38;5;28;01mif\u001b[39;00m \u001b[43mnp\u001b[49m\u001b[38;5;241;43m.\u001b[39;49m\u001b[43miterable\u001b[49m\u001b[43m(\u001b[49m\u001b[43mx\u001b[49m\u001b[43m)\u001b[49m:\n\u001b[0;32m     63\u001b[0m     \u001b[38;5;66;03m# Assume lists are homogeneous as other functions in unit system.\u001b[39;00m\n\u001b[0;32m     64\u001b[0m     \u001b[38;5;28;01mfor\u001b[39;00m thisx \u001b[38;5;129;01min\u001b[39;00m x:\n\u001b[0;32m     65\u001b[0m         \u001b[38;5;28;01mif\u001b[39;00m thisx \u001b[38;5;129;01mis\u001b[39;00m ma\u001b[38;5;241m.\u001b[39mmasked:\n",
      "File \u001b[1;32m~\\anaconda3\\lib\\site-packages\\numpy\\lib\\function_base.py:385\u001b[0m, in \u001b[0;36miterable\u001b[1;34m(y)\u001b[0m\n\u001b[0;32m    348\u001b[0m \u001b[38;5;250m\u001b[39m\u001b[38;5;124;03m\"\"\"\u001b[39;00m\n\u001b[0;32m    349\u001b[0m \u001b[38;5;124;03mCheck whether or not an object can be iterated over.\u001b[39;00m\n\u001b[0;32m    350\u001b[0m \n\u001b[1;32m   (...)\u001b[0m\n\u001b[0;32m    382\u001b[0m \n\u001b[0;32m    383\u001b[0m \u001b[38;5;124;03m\"\"\"\u001b[39;00m\n\u001b[0;32m    384\u001b[0m \u001b[38;5;28;01mtry\u001b[39;00m:\n\u001b[1;32m--> 385\u001b[0m     \u001b[38;5;28;43miter\u001b[39;49m\u001b[43m(\u001b[49m\u001b[43my\u001b[49m\u001b[43m)\u001b[49m\n\u001b[0;32m    386\u001b[0m \u001b[38;5;28;01mexcept\u001b[39;00m \u001b[38;5;167;01mTypeError\u001b[39;00m:\n\u001b[0;32m    387\u001b[0m     \u001b[38;5;28;01mreturn\u001b[39;00m \u001b[38;5;28;01mFalse\u001b[39;00m\n",
      "\u001b[1;31mKeyboardInterrupt\u001b[0m: "
     ]
    },
    {
     "data": {
      "text/plain": [
       "<Figure size 1000x500 with 0 Axes>"
      ]
     },
     "metadata": {},
     "output_type": "display_data"
    },
    {
     "data": {
      "image/png": "[encoded data removed]",
      "text/plain": [
       "<Figure size 500x500 with 1 Axes>"
      ]
     },
     "metadata": {},
     "output_type": "display_data"
    }
   ],
   "source": [
    "plt.figure(figsize=(10,5))\n",
    "sns.displot(df3[\"SQUARE_FT\"])"
   ]
  },
  {
   "cell_type": "code",
   "execution_count": null,
   "metadata": {},
   "outputs": [],
   "source": [
    "## Let's See the scatter plot between squaers\n",
    "plt.figure(figsize=(20,16))\n",
    "plt.scatter(x=df3[\"SQUARE_FT\"],y=df3[\"TARGET(PRICE_IN_LACS)\"])"
   ]
  },
  {
   "cell_type": "code",
   "execution_count": null,
   "metadata": {},
   "outputs": [],
   "source": [
    "plt.figure(figsize=(20,6))\n",
    "sns.boxplot(df3[\"SQUARE_FT\"])"
   ]
  },
  {
   "cell_type": "code",
   "execution_count": 43,
   "metadata": {},
   "outputs": [
    {
     "data": {
      "text/html": [
       "<div>\n",
       "<style scoped>\n",
       "    .dataframe tbody tr th:only-of-type {\n",
       "        vertical-align: middle;\n",
       "    }\n",
       "\n",
       "    .dataframe tbody tr th {\n",
       "        vertical-align: top;\n",
       "    }\n",
       "\n",
       "    .dataframe thead th {\n",
       "        text-align: right;\n",
       "    }\n",
       "</style>\n",
       "<table border=\"1\" class=\"dataframe\">\n",
       "  <thead>\n",
       "    <tr style=\"text-align: right;\">\n",
       "      <th></th>\n",
       "      <th>POSTED_BY</th>\n",
       "      <th>UNDER_CONSTRUCTION</th>\n",
       "      <th>RERA</th>\n",
       "      <th>BHK_NO.</th>\n",
       "      <th>SQUARE_FT</th>\n",
       "      <th>READY_TO_MOVE</th>\n",
       "      <th>RESALE</th>\n",
       "      <th>ADDRESS</th>\n",
       "      <th>LONGITUDE</th>\n",
       "      <th>LATITUDE</th>\n",
       "      <th>TARGET(PRICE_IN_LACS)</th>\n",
       "    </tr>\n",
       "  </thead>\n",
       "  <tbody>\n",
       "    <tr>\n",
       "      <th>373</th>\n",
       "      <td>Owner</td>\n",
       "      <td>0</td>\n",
       "      <td>0</td>\n",
       "      <td>4</td>\n",
       "      <td>4.333333e+05</td>\n",
       "      <td>1</td>\n",
       "      <td>1</td>\n",
       "      <td>Mulanthuruthy,Kochi</td>\n",
       "      <td>9.893479</td>\n",
       "      <td>76.408774</td>\n",
       "      <td>65.0</td>\n",
       "    </tr>\n",
       "    <tr>\n",
       "      <th>10745</th>\n",
       "      <td>Owner</td>\n",
       "      <td>0</td>\n",
       "      <td>0</td>\n",
       "      <td>3</td>\n",
       "      <td>2.545455e+08</td>\n",
       "      <td>1</td>\n",
       "      <td>1</td>\n",
       "      <td>Malur,Bangalore</td>\n",
       "      <td>13.021000</td>\n",
       "      <td>77.938000</td>\n",
       "      <td>28000.0</td>\n",
       "    </tr>\n",
       "    <tr>\n",
       "      <th>11238</th>\n",
       "      <td>Dealer</td>\n",
       "      <td>0</td>\n",
       "      <td>0</td>\n",
       "      <td>3</td>\n",
       "      <td>1.875000e+08</td>\n",
       "      <td>1</td>\n",
       "      <td>1</td>\n",
       "      <td>R.T. Nagar,Bangalore</td>\n",
       "      <td>13.018900</td>\n",
       "      <td>77.596300</td>\n",
       "      <td>30000.0</td>\n",
       "    </tr>\n",
       "    <tr>\n",
       "      <th>15598</th>\n",
       "      <td>Owner</td>\n",
       "      <td>0</td>\n",
       "      <td>0</td>\n",
       "      <td>3</td>\n",
       "      <td>7.928571e+05</td>\n",
       "      <td>1</td>\n",
       "      <td>1</td>\n",
       "      <td>Sainik Colony,Jammu</td>\n",
       "      <td>32.674044</td>\n",
       "      <td>74.907348</td>\n",
       "      <td>55.5</td>\n",
       "    </tr>\n",
       "    <tr>\n",
       "      <th>15724</th>\n",
       "      <td>Owner</td>\n",
       "      <td>0</td>\n",
       "      <td>0</td>\n",
       "      <td>2</td>\n",
       "      <td>8.064516e+07</td>\n",
       "      <td>1</td>\n",
       "      <td>1</td>\n",
       "      <td>Lakkasandra,Bangalore</td>\n",
       "      <td>12.795926</td>\n",
       "      <td>77.331535</td>\n",
       "      <td>25000.0</td>\n",
       "    </tr>\n",
       "    <tr>\n",
       "      <th>22155</th>\n",
       "      <td>Owner</td>\n",
       "      <td>0</td>\n",
       "      <td>0</td>\n",
       "      <td>1</td>\n",
       "      <td>3.400000e+05</td>\n",
       "      <td>1</td>\n",
       "      <td>1</td>\n",
       "      <td>Sayajipura,Vadodara</td>\n",
       "      <td>22.323406</td>\n",
       "      <td>73.240395</td>\n",
       "      <td>17.0</td>\n",
       "    </tr>\n",
       "    <tr>\n",
       "      <th>25241</th>\n",
       "      <td>Owner</td>\n",
       "      <td>0</td>\n",
       "      <td>0</td>\n",
       "      <td>3</td>\n",
       "      <td>4.300000e+06</td>\n",
       "      <td>1</td>\n",
       "      <td>1</td>\n",
       "      <td>New Kumaran Nagar,Chennai</td>\n",
       "      <td>10.810426</td>\n",
       "      <td>78.668914</td>\n",
       "      <td>43.0</td>\n",
       "    </tr>\n",
       "    <tr>\n",
       "      <th>28591</th>\n",
       "      <td>Owner</td>\n",
       "      <td>0</td>\n",
       "      <td>0</td>\n",
       "      <td>2</td>\n",
       "      <td>8.750000e+05</td>\n",
       "      <td>1</td>\n",
       "      <td>1</td>\n",
       "      <td>Ajit Singh Nagar,Vijayawada</td>\n",
       "      <td>30.466084</td>\n",
       "      <td>74.501902</td>\n",
       "      <td>35.0</td>\n",
       "    </tr>\n",
       "  </tbody>\n",
       "</table>\n",
       "</div>"
      ],
      "text/plain": [
       "      POSTED_BY  UNDER_CONSTRUCTION  RERA  BHK_NO.     SQUARE_FT  \\\n",
       "373       Owner                   0     0        4  4.333333e+05   \n",
       "10745     Owner                   0     0        3  2.545455e+08   \n",
       "11238    Dealer                   0     0        3  1.875000e+08   \n",
       "15598     Owner                   0     0        3  7.928571e+05   \n",
       "15724     Owner                   0     0        2  8.064516e+07   \n",
       "22155     Owner                   0     0        1  3.400000e+05   \n",
       "25241     Owner                   0     0        3  4.300000e+06   \n",
       "28591     Owner                   0     0        2  8.750000e+05   \n",
       "\n",
       "       READY_TO_MOVE  RESALE                      ADDRESS  LONGITUDE  \\\n",
       "373                1       1          Mulanthuruthy,Kochi   9.893479   \n",
       "10745              1       1              Malur,Bangalore  13.021000   \n",
       "11238              1       1         R.T. Nagar,Bangalore  13.018900   \n",
       "15598              1       1          Sainik Colony,Jammu  32.674044   \n",
       "15724              1       1        Lakkasandra,Bangalore  12.795926   \n",
       "22155              1       1          Sayajipura,Vadodara  22.323406   \n",
       "25241              1       1    New Kumaran Nagar,Chennai  10.810426   \n",
       "28591              1       1  Ajit Singh Nagar,Vijayawada  30.466084   \n",
       "\n",
       "        LATITUDE  TARGET(PRICE_IN_LACS)  \n",
       "373    76.408774                   65.0  \n",
       "10745  77.938000                28000.0  \n",
       "11238  77.596300                30000.0  \n",
       "15598  74.907348                   55.5  \n",
       "15724  77.331535                25000.0  \n",
       "22155  73.240395                   17.0  \n",
       "25241  78.668914                   43.0  \n",
       "28591  74.501902                   35.0  "
      ]
     },
     "execution_count": 43,
     "metadata": {},
     "output_type": "execute_result"
    }
   ],
   "source": [
    "df3[df3[\"SQUARE_FT\"]>3*1e5]"
   ]
  },
  {
   "cell_type": "code",
   "execution_count": 44,
   "metadata": {},
   "outputs": [],
   "source": [
    "## These Eight values are potential Outliers.As square foot size is extremely high\n",
    "##hence drop these values\n",
    "df4=df3[df3[\"SQUARE_FT\"]<3*1e5]"
   ]
  },
  {
   "cell_type": "code",
   "execution_count": 45,
   "metadata": {},
   "outputs": [
    {
     "data": {
      "text/plain": [
       "<Axes: >"
      ]
     },
     "execution_count": 45,
     "metadata": {},
     "output_type": "execute_result"
    },
    {
     "data": {
      "image/png": "[encoded data removed]",
      "text/plain": [
       "<Figure size 2000x600 with 1 Axes>"
      ]
     },
     "metadata": {},
     "output_type": "display_data"
    }
   ],
   "source": [
    "plt.figure(figsize=(20,6))\n",
    "sns.boxplot(df4[\"SQUARE_FT\"])"
   ]
  },
  {
   "cell_type": "code",
   "execution_count": 46,
   "metadata": {},
   "outputs": [
    {
     "data": {
      "text/html": [
       "<div>\n",
       "<style scoped>\n",
       "    .dataframe tbody tr th:only-of-type {\n",
       "        vertical-align: middle;\n",
       "    }\n",
       "\n",
       "    .dataframe tbody tr th {\n",
       "        vertical-align: top;\n",
       "    }\n",
       "\n",
       "    .dataframe thead th {\n",
       "        text-align: right;\n",
       "    }\n",
       "</style>\n",
       "<table border=\"1\" class=\"dataframe\">\n",
       "  <thead>\n",
       "    <tr style=\"text-align: right;\">\n",
       "      <th></th>\n",
       "      <th>POSTED_BY</th>\n",
       "      <th>UNDER_CONSTRUCTION</th>\n",
       "      <th>RERA</th>\n",
       "      <th>BHK_NO.</th>\n",
       "      <th>SQUARE_FT</th>\n",
       "      <th>READY_TO_MOVE</th>\n",
       "      <th>RESALE</th>\n",
       "      <th>ADDRESS</th>\n",
       "      <th>LONGITUDE</th>\n",
       "      <th>LATITUDE</th>\n",
       "      <th>TARGET(PRICE_IN_LACS)</th>\n",
       "    </tr>\n",
       "  </thead>\n",
       "  <tbody>\n",
       "    <tr>\n",
       "      <th>0</th>\n",
       "      <td>Owner</td>\n",
       "      <td>0</td>\n",
       "      <td>0</td>\n",
       "      <td>2</td>\n",
       "      <td>1300.236407</td>\n",
       "      <td>1</td>\n",
       "      <td>1</td>\n",
       "      <td>Ksfc Layout,Bangalore</td>\n",
       "      <td>12.969910</td>\n",
       "      <td>77.597960</td>\n",
       "      <td>55.0</td>\n",
       "    </tr>\n",
       "    <tr>\n",
       "      <th>1</th>\n",
       "      <td>Dealer</td>\n",
       "      <td>0</td>\n",
       "      <td>0</td>\n",
       "      <td>2</td>\n",
       "      <td>1275.000000</td>\n",
       "      <td>1</td>\n",
       "      <td>1</td>\n",
       "      <td>Vishweshwara Nagar,Mysore</td>\n",
       "      <td>12.274538</td>\n",
       "      <td>76.644605</td>\n",
       "      <td>51.0</td>\n",
       "    </tr>\n",
       "    <tr>\n",
       "      <th>2</th>\n",
       "      <td>Owner</td>\n",
       "      <td>0</td>\n",
       "      <td>0</td>\n",
       "      <td>2</td>\n",
       "      <td>933.159722</td>\n",
       "      <td>1</td>\n",
       "      <td>1</td>\n",
       "      <td>Jigani,Bangalore</td>\n",
       "      <td>12.778033</td>\n",
       "      <td>77.632191</td>\n",
       "      <td>43.0</td>\n",
       "    </tr>\n",
       "    <tr>\n",
       "      <th>3</th>\n",
       "      <td>Owner</td>\n",
       "      <td>0</td>\n",
       "      <td>1</td>\n",
       "      <td>2</td>\n",
       "      <td>929.921143</td>\n",
       "      <td>1</td>\n",
       "      <td>1</td>\n",
       "      <td>Sector-1 Vaishali,Ghaziabad</td>\n",
       "      <td>28.642300</td>\n",
       "      <td>77.344500</td>\n",
       "      <td>62.5</td>\n",
       "    </tr>\n",
       "    <tr>\n",
       "      <th>4</th>\n",
       "      <td>Dealer</td>\n",
       "      <td>1</td>\n",
       "      <td>0</td>\n",
       "      <td>2</td>\n",
       "      <td>999.009247</td>\n",
       "      <td>0</td>\n",
       "      <td>1</td>\n",
       "      <td>New Town,Kolkata</td>\n",
       "      <td>22.592200</td>\n",
       "      <td>88.484911</td>\n",
       "      <td>60.5</td>\n",
       "    </tr>\n",
       "  </tbody>\n",
       "</table>\n",
       "</div>"
      ],
      "text/plain": [
       "  POSTED_BY  UNDER_CONSTRUCTION  RERA  BHK_NO.    SQUARE_FT  READY_TO_MOVE  \\\n",
       "0     Owner                   0     0        2  1300.236407              1   \n",
       "1    Dealer                   0     0        2  1275.000000              1   \n",
       "2     Owner                   0     0        2   933.159722              1   \n",
       "3     Owner                   0     1        2   929.921143              1   \n",
       "4    Dealer                   1     0        2   999.009247              0   \n",
       "\n",
       "   RESALE                      ADDRESS  LONGITUDE   LATITUDE  \\\n",
       "0       1        Ksfc Layout,Bangalore  12.969910  77.597960   \n",
       "1       1    Vishweshwara Nagar,Mysore  12.274538  76.644605   \n",
       "2       1             Jigani,Bangalore  12.778033  77.632191   \n",
       "3       1  Sector-1 Vaishali,Ghaziabad  28.642300  77.344500   \n",
       "4       1             New Town,Kolkata  22.592200  88.484911   \n",
       "\n",
       "   TARGET(PRICE_IN_LACS)  \n",
       "0                   55.0  \n",
       "1                   51.0  \n",
       "2                   43.0  \n",
       "3                   62.5  \n",
       "4                   60.5  "
      ]
     },
     "execution_count": 46,
     "metadata": {},
     "output_type": "execute_result"
    }
   ],
   "source": [
    "df4.head()"
   ]
  },
  {
   "cell_type": "code",
   "execution_count": null,
   "metadata": {},
   "outputs": [],
   "source": [
    "## Let's see How many building are ready to move"
   ]
  },
  {
   "cell_type": "code",
   "execution_count": null,
   "metadata": {},
   "outputs": [],
   "source": [
    "df4[\"READY_TO_MOVE\"].value_counts()"
   ]
  },
  {
   "cell_type": "code",
   "execution_count": null,
   "metadata": {},
   "outputs": [],
   "source": [
    "df4.groupby(\"READY_TO_MOVE\")[\"TARGET(PRICE_IN_LACS)\"].mean()\n",
    "## There is no much more difference in"
   ]
  },
  {
   "cell_type": "code",
   "execution_count": null,
   "metadata": {},
   "outputs": [],
   "source": [
    "df4[\"RESALE\"].value_counts()"
   ]
  },
  {
   "cell_type": "code",
   "execution_count": null,
   "metadata": {},
   "outputs": [],
   "source": [
    "## As you can see most of the houses are resold\n",
    "df4.groupby(\"RESALE\")[\"TARGET(PRICE_IN_LACS)\"].mean()"
   ]
  },
  {
   "cell_type": "code",
   "execution_count": null,
   "metadata": {},
   "outputs": [],
   "source": [
    "## It is clearly seen that resold houses are relatively lower price"
   ]
  },
  {
   "cell_type": "code",
   "execution_count": null,
   "metadata": {},
   "outputs": [],
   "source": [
    "## Let's see the address columns"
   ]
  },
  {
   "cell_type": "code",
   "execution_count": null,
   "metadata": {},
   "outputs": [],
   "source": [
    "df4[\"ADDRESS\"].value_counts()"
   ]
  },
  {
   "cell_type": "code",
   "execution_count": null,
   "metadata": {},
   "outputs": [],
   "source": [
    "## As we can see in the address , at the end of each address there is a prominent city or state name\n",
    "##Let's extract these citis and states from these columns"
   ]
  },
  {
   "cell_type": "code",
   "execution_count": null,
   "metadata": {},
   "outputs": [],
   "source": [
    "df4[\"ADDRESS\"].apply(lambda x : x.split(\",\")[-1].strip())"
   ]
  },
  {
   "cell_type": "code",
   "execution_count": 50,
   "metadata": {
    "scrolled": false
   },
   "outputs": [],
   "source": [
    "## Let's store these values in a new column\n",
    "df4[\"LOCATION\"]=df4[\"ADDRESS\"].apply(lambda x : x.split(\",\")[-1].strip())"
   ]
  },
  {
   "cell_type": "code",
   "execution_count": 51,
   "metadata": {
    "scrolled": true
   },
   "outputs": [
    {
     "data": {
      "text/plain": [
       "Bangalore         4326\n",
       "Lalitpur          2966\n",
       "Mumbai            2022\n",
       "Pune              1989\n",
       "Noida             1767\n",
       "Kolkata           1707\n",
       "Maharashtra       1578\n",
       "Chennai           1253\n",
       "Ghaziabad         1087\n",
       "Jaipur             960\n",
       "Chandigarh         696\n",
       "Faridabad          648\n",
       "Mohali             556\n",
       "Vadodara           509\n",
       "Gurgaon            430\n",
       "Surat              423\n",
       "Nagpur             336\n",
       "Lucknow            326\n",
       "Indore             306\n",
       "Bhubaneswar        234\n",
       "Bhopal             218\n",
       "Kochi              204\n",
       "Visakhapatnam      178\n",
       "Bhiwadi            161\n",
       "Goa                149\n",
       "Coimbatore         147\n",
       "Dehradun           131\n",
       "Ranchi             124\n",
       "Mangalore          121\n",
       "Gandhinagar        118\n",
       "Sonipat            117\n",
       "Secunderabad       108\n",
       "Palghar            107\n",
       "Kanpur              92\n",
       "Guwahati            89\n",
       "Raipur              89\n",
       "Jamshedpur          86\n",
       "Agra                83\n",
       "Rajkot              83\n",
       "Siliguri            83\n",
       "Panchkula           82\n",
       "Patna               82\n",
       "Vijayawada          79\n",
       "Aurangabad          66\n",
       "Jamnagar            66\n",
       "Raigad              65\n",
       "Dharuhera           63\n",
       "Thrissur            57\n",
       "Durgapur            55\n",
       "Gwalior             53\n",
       "Meerut              51\n",
       "Allahabad           49\n",
       "Bahadurgarh         49\n",
       "Anand               48\n",
       "Ernakulam           46\n",
       "Kota                44\n",
       "Bharuch             43\n",
       "Mysore              43\n",
       "Varanasi            42\n",
       "Valsad              42\n",
       "Ratnagiri           40\n",
       "Haridwar            40\n",
       "Bhilai              39\n",
       "Jalandhar           38\n",
       "Vapi                37\n",
       "Udaipur             35\n",
       "Asansol             35\n",
       "Neemrana            35\n",
       "Jabalpur            34\n",
       "Udupi               34\n",
       "Kolhapur            33\n",
       "Panaji              32\n",
       "Guntur              32\n",
       "Madurai             32\n",
       "Ludhiana            31\n",
       "Bhavnagar           31\n",
       "Dhanbad             30\n",
       "Hubli               30\n",
       "Amravati            28\n",
       "Jodhpur             27\n",
       "Ahmednagar          25\n",
       "Palakkad            24\n",
       "Aligarh             22\n",
       "Solapur             22\n",
       "Sindhudurg          22\n",
       "Nellore             22\n",
       "Ajmer               21\n",
       "Navsari             21\n",
       "Shimla              21\n",
       "Bilaspur            21\n",
       "Karjat              20\n",
       "Margao              19\n",
       "Belgaum             19\n",
       "Kottayam            18\n",
       "Junagadh            18\n",
       "Rudrapur            18\n",
       "Vizianagaram        18\n",
       "Jalgaon             17\n",
       "Pondicherry         17\n",
       "Mathura             16\n",
       "Tirupati            16\n",
       "Solan               15\n",
       "Karad               14\n",
       "Nainital            13\n",
       "Chandrapur          12\n",
       "Kakinada            12\n",
       "Kannur              12\n",
       "Durg                11\n",
       "Amritsar            11\n",
       "Alwar               11\n",
       "Puri                10\n",
       "Kanchipuram         10\n",
       "Wardha              10\n",
       "Karnal              10\n",
       "Latur               10\n",
       "Hazaribagh           9\n",
       "Akola                9\n",
       "Gandhidham           9\n",
       "Bareilly             9\n",
       "Tirunelveli          8\n",
       "Moradabad            8\n",
       "Bardhaman            8\n",
       "Cuttack              8\n",
       "Rohtak               8\n",
       "Tenali               8\n",
       "Berhampur            7\n",
       "Rewari               7\n",
       "Ongole               7\n",
       "Jhansi               7\n",
       "Eluru                7\n",
       "Kollam               6\n",
       "Morbi                6\n",
       "Palwal               6\n",
       "Haldwani             6\n",
       "Muzaffarpur          6\n",
       "Dharwad              5\n",
       "Raigarh              5\n",
       "Nadiad               5\n",
       "Anantapur            5\n",
       "Gaya                 5\n",
       "Ujjain               5\n",
       "Shirdi               5\n",
       "Bhimavaram           5\n",
       "Bokaro               5\n",
       "Gulbarga             5\n",
       "Kharagpur            4\n",
       "Jammu                4\n",
       "Bhagalpur            4\n",
       "Warangal             4\n",
       "Godhra               4\n",
       "Nanded               4\n",
       "Thanjavur            4\n",
       "Hosur                4\n",
       "Dhule                4\n",
       "Ambala               4\n",
       "Panipat              4\n",
       "Erode                3\n",
       "Salem                3\n",
       "Porbandar            3\n",
       "Srikakulam           3\n",
       "Roorkee              3\n",
       "Satna                3\n",
       "Gadhinglaj           3\n",
       "Hoshangabad          3\n",
       "Thoothukudi          3\n",
       "Rishikesh            3\n",
       "Hapur                3\n",
       "Jalna                3\n",
       "Bhandara             3\n",
       "Sikar                3\n",
       "Dalhousie            3\n",
       "Pathanamthitta       3\n",
       "Gurdaspur            2\n",
       "Kotdwara             2\n",
       "Yavatmal             2\n",
       "Hoshiarpur           2\n",
       "Beed                 2\n",
       "Patiala              2\n",
       "Bikaner              2\n",
       "Rewa                 2\n",
       "Haldia               2\n",
       "Ooty                 2\n",
       "Jind                 2\n",
       "Kadapa               2\n",
       "Baddi                2\n",
       "Bankura              2\n",
       "Arrah                2\n",
       "Rourkela             2\n",
       "Barabanki            2\n",
       "Karwar               2\n",
       "Kurnool              2\n",
       "Deoghar              2\n",
       "Kadi                 2\n",
       "Idukki               2\n",
       "Bhiwani              2\n",
       "Angul                1\n",
       "Dahod                1\n",
       "Nagapattinam         1\n",
       "Sambalpur            1\n",
       "Darjeeling           1\n",
       "Raisen               1\n",
       "Bhuj                 1\n",
       "Siwan                1\n",
       "Bharatpur            1\n",
       "Vellore              1\n",
       "Gondia               1\n",
       "Raichur              1\n",
       "Cuddalore            1\n",
       "Rajnandgaon          1\n",
       "Visnagar             1\n",
       "Phagwara             1\n",
       "Surendranagar        1\n",
       "Betul                1\n",
       "Malappuram           1\n",
       "Faizabad             1\n",
       "Chittoor             1\n",
       "Jajpur               1\n",
       "Gadarwara            1\n",
       "Nagaon               1\n",
       "Jhunjhunu            1\n",
       "Silchar              1\n",
       "Korba                1\n",
       "Ottapalam            1\n",
       "Hassan               1\n",
       "Jagdalpur            1\n",
       "Hajipur              1\n",
       "Pudukkottai          1\n",
       "Rajpura              1\n",
       "Siddipet             1\n",
       "Darbhanga            1\n",
       "Agartala             1\n",
       "Osmanabad            1\n",
       "Jharsuguda           1\n",
       "Amroha               1\n",
       "Sabarkantha          1\n",
       "Harda                1\n",
       "Karaikudi            1\n",
       "Srinagar             1\n",
       "Midnapore            1\n",
       "Rayagada             1\n",
       "Banswara             1\n",
       "Pali                 1\n",
       "Hathras              1\n",
       "Balasore             1\n",
       "Chhindwara           1\n",
       "Kangra               1\n",
       "Nagaur               1\n",
       "Palanpur             1\n",
       "Kurukshetra          1\n",
       "Dibrugarh            1\n",
       "Machilipatnam        1\n",
       "Washim               1\n",
       "Name: LOCATION, dtype: int64"
      ]
     },
     "execution_count": 51,
     "metadata": {},
     "output_type": "execute_result"
    }
   ],
   "source": [
    "df4[\"LOCATION\"].value_counts()"
   ]
  },
  {
   "cell_type": "code",
   "execution_count": null,
   "metadata": {},
   "outputs": [],
   "source": [
    "## Let's make the value of the loaction \"Others\" if that value is less frequent i.e less than 20"
   ]
  },
  {
   "cell_type": "code",
   "execution_count": 52,
   "metadata": {},
   "outputs": [],
   "source": [
    "rare_values=list(df4[\"LOCATION\"].value_counts()[df4[\"LOCATION\"].value_counts()<15].index)"
   ]
  },
  {
   "cell_type": "code",
   "execution_count": 53,
   "metadata": {},
   "outputs": [
    {
     "data": {
      "text/plain": [
       "['Karad',\n",
       " 'Nainital',\n",
       " 'Chandrapur',\n",
       " 'Kakinada',\n",
       " 'Kannur',\n",
       " 'Durg',\n",
       " 'Amritsar',\n",
       " 'Alwar',\n",
       " 'Puri',\n",
       " 'Kanchipuram',\n",
       " 'Wardha',\n",
       " 'Karnal',\n",
       " 'Latur',\n",
       " 'Hazaribagh',\n",
       " 'Akola',\n",
       " 'Gandhidham',\n",
       " 'Bareilly',\n",
       " 'Tirunelveli',\n",
       " 'Moradabad',\n",
       " 'Bardhaman',\n",
       " 'Cuttack',\n",
       " 'Rohtak',\n",
       " 'Tenali',\n",
       " 'Berhampur',\n",
       " 'Rewari',\n",
       " 'Ongole',\n",
       " 'Jhansi',\n",
       " 'Eluru',\n",
       " 'Kollam',\n",
       " 'Morbi',\n",
       " 'Palwal',\n",
       " 'Haldwani',\n",
       " 'Muzaffarpur',\n",
       " 'Dharwad',\n",
       " 'Raigarh',\n",
       " 'Nadiad',\n",
       " 'Anantapur',\n",
       " 'Gaya',\n",
       " 'Ujjain',\n",
       " 'Shirdi',\n",
       " 'Bhimavaram',\n",
       " 'Bokaro',\n",
       " 'Gulbarga',\n",
       " 'Kharagpur',\n",
       " 'Jammu',\n",
       " 'Bhagalpur',\n",
       " 'Warangal',\n",
       " 'Godhra',\n",
       " 'Nanded',\n",
       " 'Thanjavur',\n",
       " 'Hosur',\n",
       " 'Dhule',\n",
       " 'Ambala',\n",
       " 'Panipat',\n",
       " 'Erode',\n",
       " 'Salem',\n",
       " 'Porbandar',\n",
       " 'Srikakulam',\n",
       " 'Roorkee',\n",
       " 'Satna',\n",
       " 'Gadhinglaj',\n",
       " 'Hoshangabad',\n",
       " 'Thoothukudi',\n",
       " 'Rishikesh',\n",
       " 'Hapur',\n",
       " 'Jalna',\n",
       " 'Bhandara',\n",
       " 'Sikar',\n",
       " 'Dalhousie',\n",
       " 'Pathanamthitta',\n",
       " 'Gurdaspur',\n",
       " 'Kotdwara',\n",
       " 'Yavatmal',\n",
       " 'Hoshiarpur',\n",
       " 'Beed',\n",
       " 'Patiala',\n",
       " 'Bikaner',\n",
       " 'Rewa',\n",
       " 'Haldia',\n",
       " 'Ooty',\n",
       " 'Jind',\n",
       " 'Kadapa',\n",
       " 'Baddi',\n",
       " 'Bankura',\n",
       " 'Arrah',\n",
       " 'Rourkela',\n",
       " 'Barabanki',\n",
       " 'Karwar',\n",
       " 'Kurnool',\n",
       " 'Deoghar',\n",
       " 'Kadi',\n",
       " 'Idukki',\n",
       " 'Bhiwani',\n",
       " 'Angul',\n",
       " 'Dahod',\n",
       " 'Nagapattinam',\n",
       " 'Sambalpur',\n",
       " 'Darjeeling',\n",
       " 'Raisen',\n",
       " 'Bhuj',\n",
       " 'Siwan',\n",
       " 'Bharatpur',\n",
       " 'Vellore',\n",
       " 'Gondia',\n",
       " 'Raichur',\n",
       " 'Cuddalore',\n",
       " 'Rajnandgaon',\n",
       " 'Visnagar',\n",
       " 'Phagwara',\n",
       " 'Surendranagar',\n",
       " 'Betul',\n",
       " 'Malappuram',\n",
       " 'Faizabad',\n",
       " 'Chittoor',\n",
       " 'Jajpur',\n",
       " 'Gadarwara',\n",
       " 'Nagaon',\n",
       " 'Jhunjhunu',\n",
       " 'Silchar',\n",
       " 'Korba',\n",
       " 'Ottapalam',\n",
       " 'Hassan',\n",
       " 'Jagdalpur',\n",
       " 'Hajipur',\n",
       " 'Pudukkottai',\n",
       " 'Rajpura',\n",
       " 'Siddipet',\n",
       " 'Darbhanga',\n",
       " 'Agartala',\n",
       " 'Osmanabad',\n",
       " 'Jharsuguda',\n",
       " 'Amroha',\n",
       " 'Sabarkantha',\n",
       " 'Harda',\n",
       " 'Karaikudi',\n",
       " 'Srinagar',\n",
       " 'Midnapore',\n",
       " 'Rayagada',\n",
       " 'Banswara',\n",
       " 'Pali',\n",
       " 'Hathras',\n",
       " 'Balasore',\n",
       " 'Chhindwara',\n",
       " 'Kangra',\n",
       " 'Nagaur',\n",
       " 'Palanpur',\n",
       " 'Kurukshetra',\n",
       " 'Dibrugarh',\n",
       " 'Machilipatnam',\n",
       " 'Washim']"
      ]
     },
     "execution_count": 53,
     "metadata": {},
     "output_type": "execute_result"
    }
   ],
   "source": [
    "rare_values"
   ]
  },
  {
   "cell_type": "code",
   "execution_count": 42,
   "metadata": {},
   "outputs": [
    {
     "ename": "NameError",
     "evalue": "name 'df4' is not defined",
     "output_type": "error",
     "traceback": [
      "\u001b[1;31m---------------------------------------------------------------------------\u001b[0m",
      "\u001b[1;31mNameError\u001b[0m                                 Traceback (most recent call last)",
      "Cell \u001b[1;32mIn[42], line 1\u001b[0m\n\u001b[1;32m----> 1\u001b[0m \u001b[43mdf4\u001b[49m[\u001b[38;5;124m\"\u001b[39m\u001b[38;5;124mLOCATION\u001b[39m\u001b[38;5;124m\"\u001b[39m]\u001b[38;5;241m.\u001b[39mreplace(rare_values,\u001b[38;5;124m\"\u001b[39m\u001b[38;5;124mOthers\u001b[39m\u001b[38;5;124m\"\u001b[39m,inplace\u001b[38;5;241m=\u001b[39m\u001b[38;5;28;01mTrue\u001b[39;00m)\n",
      "\u001b[1;31mNameError\u001b[0m: name 'df4' is not defined"
     ]
    }
   ],
   "source": [
    "df4[\"LOCATION\"].replace(rare_values,\"Others\",inplace=True)"
   ]
  },
  {
   "cell_type": "code",
   "execution_count": 54,
   "metadata": {
    "scrolled": true
   },
   "outputs": [
    {
     "data": {
      "text/plain": [
       "Bangalore         4326\n",
       "Lalitpur          2966\n",
       "Mumbai            2022\n",
       "Pune              1989\n",
       "Noida             1767\n",
       "Kolkata           1707\n",
       "Maharashtra       1578\n",
       "Chennai           1253\n",
       "Ghaziabad         1087\n",
       "Jaipur             960\n",
       "Chandigarh         696\n",
       "Faridabad          648\n",
       "Mohali             556\n",
       "Vadodara           509\n",
       "Gurgaon            430\n",
       "Surat              423\n",
       "Nagpur             336\n",
       "Lucknow            326\n",
       "Indore             306\n",
       "Bhubaneswar        234\n",
       "Bhopal             218\n",
       "Kochi              204\n",
       "Visakhapatnam      178\n",
       "Bhiwadi            161\n",
       "Goa                149\n",
       "Coimbatore         147\n",
       "Dehradun           131\n",
       "Ranchi             124\n",
       "Mangalore          121\n",
       "Gandhinagar        118\n",
       "Sonipat            117\n",
       "Secunderabad       108\n",
       "Palghar            107\n",
       "Kanpur              92\n",
       "Guwahati            89\n",
       "Raipur              89\n",
       "Jamshedpur          86\n",
       "Agra                83\n",
       "Rajkot              83\n",
       "Siliguri            83\n",
       "Panchkula           82\n",
       "Patna               82\n",
       "Vijayawada          79\n",
       "Aurangabad          66\n",
       "Jamnagar            66\n",
       "Raigad              65\n",
       "Dharuhera           63\n",
       "Thrissur            57\n",
       "Durgapur            55\n",
       "Gwalior             53\n",
       "Meerut              51\n",
       "Allahabad           49\n",
       "Bahadurgarh         49\n",
       "Anand               48\n",
       "Ernakulam           46\n",
       "Kota                44\n",
       "Bharuch             43\n",
       "Mysore              43\n",
       "Varanasi            42\n",
       "Valsad              42\n",
       "Ratnagiri           40\n",
       "Haridwar            40\n",
       "Bhilai              39\n",
       "Jalandhar           38\n",
       "Vapi                37\n",
       "Udaipur             35\n",
       "Asansol             35\n",
       "Neemrana            35\n",
       "Jabalpur            34\n",
       "Udupi               34\n",
       "Kolhapur            33\n",
       "Panaji              32\n",
       "Guntur              32\n",
       "Madurai             32\n",
       "Ludhiana            31\n",
       "Bhavnagar           31\n",
       "Dhanbad             30\n",
       "Hubli               30\n",
       "Amravati            28\n",
       "Jodhpur             27\n",
       "Ahmednagar          25\n",
       "Palakkad            24\n",
       "Aligarh             22\n",
       "Solapur             22\n",
       "Sindhudurg          22\n",
       "Nellore             22\n",
       "Ajmer               21\n",
       "Navsari             21\n",
       "Shimla              21\n",
       "Bilaspur            21\n",
       "Karjat              20\n",
       "Margao              19\n",
       "Belgaum             19\n",
       "Kottayam            18\n",
       "Junagadh            18\n",
       "Rudrapur            18\n",
       "Vizianagaram        18\n",
       "Jalgaon             17\n",
       "Pondicherry         17\n",
       "Mathura             16\n",
       "Tirupati            16\n",
       "Solan               15\n",
       "Karad               14\n",
       "Nainital            13\n",
       "Chandrapur          12\n",
       "Kakinada            12\n",
       "Kannur              12\n",
       "Durg                11\n",
       "Amritsar            11\n",
       "Alwar               11\n",
       "Puri                10\n",
       "Kanchipuram         10\n",
       "Wardha              10\n",
       "Karnal              10\n",
       "Latur               10\n",
       "Hazaribagh           9\n",
       "Akola                9\n",
       "Gandhidham           9\n",
       "Bareilly             9\n",
       "Tirunelveli          8\n",
       "Moradabad            8\n",
       "Bardhaman            8\n",
       "Cuttack              8\n",
       "Rohtak               8\n",
       "Tenali               8\n",
       "Berhampur            7\n",
       "Rewari               7\n",
       "Ongole               7\n",
       "Jhansi               7\n",
       "Eluru                7\n",
       "Kollam               6\n",
       "Morbi                6\n",
       "Palwal               6\n",
       "Haldwani             6\n",
       "Muzaffarpur          6\n",
       "Dharwad              5\n",
       "Raigarh              5\n",
       "Nadiad               5\n",
       "Anantapur            5\n",
       "Gaya                 5\n",
       "Ujjain               5\n",
       "Shirdi               5\n",
       "Bhimavaram           5\n",
       "Bokaro               5\n",
       "Gulbarga             5\n",
       "Kharagpur            4\n",
       "Jammu                4\n",
       "Bhagalpur            4\n",
       "Warangal             4\n",
       "Godhra               4\n",
       "Nanded               4\n",
       "Thanjavur            4\n",
       "Hosur                4\n",
       "Dhule                4\n",
       "Ambala               4\n",
       "Panipat              4\n",
       "Erode                3\n",
       "Salem                3\n",
       "Porbandar            3\n",
       "Srikakulam           3\n",
       "Roorkee              3\n",
       "Satna                3\n",
       "Gadhinglaj           3\n",
       "Hoshangabad          3\n",
       "Thoothukudi          3\n",
       "Rishikesh            3\n",
       "Hapur                3\n",
       "Jalna                3\n",
       "Bhandara             3\n",
       "Sikar                3\n",
       "Dalhousie            3\n",
       "Pathanamthitta       3\n",
       "Gurdaspur            2\n",
       "Kotdwara             2\n",
       "Yavatmal             2\n",
       "Hoshiarpur           2\n",
       "Beed                 2\n",
       "Patiala              2\n",
       "Bikaner              2\n",
       "Rewa                 2\n",
       "Haldia               2\n",
       "Ooty                 2\n",
       "Jind                 2\n",
       "Kadapa               2\n",
       "Baddi                2\n",
       "Bankura              2\n",
       "Arrah                2\n",
       "Rourkela             2\n",
       "Barabanki            2\n",
       "Karwar               2\n",
       "Kurnool              2\n",
       "Deoghar              2\n",
       "Kadi                 2\n",
       "Idukki               2\n",
       "Bhiwani              2\n",
       "Angul                1\n",
       "Dahod                1\n",
       "Nagapattinam         1\n",
       "Sambalpur            1\n",
       "Darjeeling           1\n",
       "Raisen               1\n",
       "Bhuj                 1\n",
       "Siwan                1\n",
       "Bharatpur            1\n",
       "Vellore              1\n",
       "Gondia               1\n",
       "Raichur              1\n",
       "Cuddalore            1\n",
       "Rajnandgaon          1\n",
       "Visnagar             1\n",
       "Phagwara             1\n",
       "Surendranagar        1\n",
       "Betul                1\n",
       "Malappuram           1\n",
       "Faizabad             1\n",
       "Chittoor             1\n",
       "Jajpur               1\n",
       "Gadarwara            1\n",
       "Nagaon               1\n",
       "Jhunjhunu            1\n",
       "Silchar              1\n",
       "Korba                1\n",
       "Ottapalam            1\n",
       "Hassan               1\n",
       "Jagdalpur            1\n",
       "Hajipur              1\n",
       "Pudukkottai          1\n",
       "Rajpura              1\n",
       "Siddipet             1\n",
       "Darbhanga            1\n",
       "Agartala             1\n",
       "Osmanabad            1\n",
       "Jharsuguda           1\n",
       "Amroha               1\n",
       "Sabarkantha          1\n",
       "Harda                1\n",
       "Karaikudi            1\n",
       "Srinagar             1\n",
       "Midnapore            1\n",
       "Rayagada             1\n",
       "Banswara             1\n",
       "Pali                 1\n",
       "Hathras              1\n",
       "Balasore             1\n",
       "Chhindwara           1\n",
       "Kangra               1\n",
       "Nagaur               1\n",
       "Palanpur             1\n",
       "Kurukshetra          1\n",
       "Dibrugarh            1\n",
       "Machilipatnam        1\n",
       "Washim               1\n",
       "Name: LOCATION, dtype: int64"
      ]
     },
     "execution_count": 54,
     "metadata": {},
     "output_type": "execute_result"
    }
   ],
   "source": [
    "df4[\"LOCATION\"].value_counts()"
   ]
  },
  {
   "cell_type": "code",
   "execution_count": null,
   "metadata": {},
   "outputs": [],
   "source": [
    "## Let's drop ADDRESS column\n",
    "## As Latitude and Longitude are Specific to that address let's drop this also\n"
   ]
  },
  {
   "cell_type": "code",
   "execution_count": 55,
   "metadata": {},
   "outputs": [],
   "source": [
    "df5=df4.drop(columns=[\"ADDRESS\",\"LATITUDE\",\"LONGITUDE\"])"
   ]
  },
  {
   "cell_type": "code",
   "execution_count": 56,
   "metadata": {},
   "outputs": [],
   "source": [
    "locations_values=list(df5[\"LOCATION\"].unique())"
   ]
  },
  {
   "cell_type": "code",
   "execution_count": 57,
   "metadata": {
    "scrolled": true
   },
   "outputs": [
    {
     "data": {
      "text/plain": [
       "['Bangalore',\n",
       " 'Mysore',\n",
       " 'Ghaziabad',\n",
       " 'Kolkata',\n",
       " 'Kochi',\n",
       " 'Jaipur',\n",
       " 'Mohali',\n",
       " 'Chennai',\n",
       " 'Siliguri',\n",
       " 'Noida',\n",
       " 'Raigad',\n",
       " 'Bhubaneswar',\n",
       " 'Wardha',\n",
       " 'Pune',\n",
       " 'Mumbai',\n",
       " 'Nagpur',\n",
       " 'Deoghar',\n",
       " 'Bhiwadi',\n",
       " 'Faridabad',\n",
       " 'Lalitpur',\n",
       " 'Maharashtra',\n",
       " 'Vadodara',\n",
       " 'Visakhapatnam',\n",
       " 'Vapi',\n",
       " 'Mangalore',\n",
       " 'Aurangabad',\n",
       " 'Ottapalam',\n",
       " 'Vijayawada',\n",
       " 'Belgaum',\n",
       " 'Bhopal',\n",
       " 'Lucknow',\n",
       " 'Kanpur',\n",
       " 'Gandhinagar',\n",
       " 'Pondicherry',\n",
       " 'Agra',\n",
       " 'Ranchi',\n",
       " 'Gurgaon',\n",
       " 'Udupi',\n",
       " 'Indore',\n",
       " 'Jodhpur',\n",
       " 'Coimbatore',\n",
       " 'Valsad',\n",
       " 'Palghar',\n",
       " 'Surat',\n",
       " 'Varanasi',\n",
       " 'Guwahati',\n",
       " 'Amravati',\n",
       " 'Anand',\n",
       " 'Tirupati',\n",
       " 'Secunderabad',\n",
       " 'Raipur',\n",
       " 'Vizianagaram',\n",
       " 'Thrissur',\n",
       " 'Satna',\n",
       " 'Madurai',\n",
       " 'Chandigarh',\n",
       " 'Shimla',\n",
       " 'Gwalior',\n",
       " 'Rajkot',\n",
       " 'Sonipat',\n",
       " 'Allahabad',\n",
       " 'Berhampur',\n",
       " 'Roorkee',\n",
       " 'Dharuhera',\n",
       " 'Latur',\n",
       " 'Durgapur',\n",
       " 'Panchkula',\n",
       " 'Solapur',\n",
       " 'Durg',\n",
       " 'Goa',\n",
       " 'Jamshedpur',\n",
       " 'Hazaribagh',\n",
       " 'Jabalpur',\n",
       " 'Hosur',\n",
       " 'Morbi',\n",
       " 'Hubli',\n",
       " 'Karnal',\n",
       " 'Patna',\n",
       " 'Bilaspur',\n",
       " 'Ratnagiri',\n",
       " 'Meerut',\n",
       " 'Kotdwara',\n",
       " 'Jalandhar',\n",
       " 'Amritsar',\n",
       " 'Patiala',\n",
       " 'Ludhiana',\n",
       " 'Alwar',\n",
       " 'Kota',\n",
       " 'Panaji',\n",
       " 'Kolhapur',\n",
       " 'Ernakulam',\n",
       " 'Bhavnagar',\n",
       " 'Bharuch',\n",
       " 'Asansol',\n",
       " 'Jhansi',\n",
       " 'Margao',\n",
       " 'Anantapur',\n",
       " 'Eluru',\n",
       " 'Bhilai',\n",
       " 'Dehradun',\n",
       " 'Guntur',\n",
       " 'Jalgaon',\n",
       " 'Udaipur',\n",
       " 'Gurdaspur',\n",
       " 'Neemrana',\n",
       " 'Hassan',\n",
       " 'Sindhudurg',\n",
       " 'Hoshangabad',\n",
       " 'Kottayam',\n",
       " 'Dhanbad',\n",
       " 'Navsari',\n",
       " 'Bahadurgarh',\n",
       " 'Nellore',\n",
       " 'Dhule',\n",
       " 'Tirunelveli',\n",
       " 'Cuttack',\n",
       " 'Haridwar',\n",
       " 'Nainital',\n",
       " 'Jamnagar',\n",
       " 'Kanchipuram',\n",
       " 'Kadi',\n",
       " 'Karad',\n",
       " 'Jagdalpur',\n",
       " 'Panipat',\n",
       " 'Muzaffarpur',\n",
       " 'Salem',\n",
       " 'Jhunjhunu',\n",
       " 'Gandhidham',\n",
       " 'Junagadh',\n",
       " 'Moradabad',\n",
       " 'Ahmednagar',\n",
       " 'Jalna',\n",
       " 'Bhiwani',\n",
       " 'Palakkad',\n",
       " 'Kannur',\n",
       " 'Karjat',\n",
       " 'Akola',\n",
       " 'Jind',\n",
       " 'Gaya',\n",
       " 'Ambala',\n",
       " 'Ajmer',\n",
       " 'Hajipur',\n",
       " 'Dharwad',\n",
       " 'Pudukkottai',\n",
       " 'Kollam',\n",
       " 'Ooty',\n",
       " 'Bhandara',\n",
       " 'Barabanki',\n",
       " 'Rajpura',\n",
       " 'Palwal',\n",
       " 'Aligarh',\n",
       " 'Erode',\n",
       " 'Rudrapur',\n",
       " 'Tenali',\n",
       " 'Ongole',\n",
       " 'Puri',\n",
       " 'Dalhousie',\n",
       " 'Siddipet',\n",
       " 'Solan',\n",
       " 'Darbhanga',\n",
       " 'Kadapa',\n",
       " 'Kakinada',\n",
       " 'Agartala',\n",
       " 'Warangal',\n",
       " 'Haldwani',\n",
       " 'Osmanabad',\n",
       " 'Bhagalpur',\n",
       " 'Bardhaman',\n",
       " 'Rishikesh',\n",
       " 'Chandrapur',\n",
       " 'Bokaro',\n",
       " 'Jharsuguda',\n",
       " 'Bhimavaram',\n",
       " 'Kurnool',\n",
       " 'Amroha',\n",
       " 'Hapur',\n",
       " 'Sabarkantha',\n",
       " 'Harda',\n",
       " 'Ujjain',\n",
       " 'Thoothukudi',\n",
       " 'Karaikudi',\n",
       " 'Mathura',\n",
       " 'Gadhinglaj',\n",
       " 'Rewari',\n",
       " 'Godhra',\n",
       " 'Kharagpur',\n",
       " 'Srikakulam',\n",
       " 'Srinagar',\n",
       " 'Midnapore',\n",
       " 'Rayagada',\n",
       " 'Banswara',\n",
       " 'Shirdi',\n",
       " 'Rohtak',\n",
       " 'Pali',\n",
       " 'Hathras',\n",
       " 'Yavatmal',\n",
       " 'Balasore',\n",
       " 'Chhindwara',\n",
       " 'Bareilly',\n",
       " 'Thanjavur',\n",
       " 'Kangra',\n",
       " 'Bikaner',\n",
       " 'Rewa',\n",
       " 'Porbandar',\n",
       " 'Nagaur',\n",
       " 'Nanded',\n",
       " 'Rourkela',\n",
       " 'Nadiad',\n",
       " 'Gulbarga',\n",
       " 'Palanpur',\n",
       " 'Kurukshetra',\n",
       " 'Dibrugarh',\n",
       " 'Machilipatnam',\n",
       " 'Pathanamthitta',\n",
       " 'Bankura',\n",
       " 'Idukki',\n",
       " 'Korba',\n",
       " 'Raigarh',\n",
       " 'Silchar',\n",
       " 'Arrah',\n",
       " 'Nagaon',\n",
       " 'Karwar',\n",
       " 'Dahod',\n",
       " 'Nagapattinam',\n",
       " 'Sikar',\n",
       " 'Angul',\n",
       " 'Baddi',\n",
       " 'Jammu',\n",
       " 'Darjeeling',\n",
       " 'Raisen',\n",
       " 'Hoshiarpur',\n",
       " 'Beed',\n",
       " 'Gadarwara',\n",
       " 'Jajpur',\n",
       " 'Haldia',\n",
       " 'Chittoor',\n",
       " 'Faizabad',\n",
       " 'Malappuram',\n",
       " 'Betul',\n",
       " 'Surendranagar',\n",
       " 'Phagwara',\n",
       " 'Visnagar',\n",
       " 'Rajnandgaon',\n",
       " 'Cuddalore',\n",
       " 'Raichur',\n",
       " 'Sambalpur',\n",
       " 'Gondia',\n",
       " 'Vellore',\n",
       " 'Bharatpur',\n",
       " 'Bhuj',\n",
       " 'Siwan',\n",
       " 'Washim']"
      ]
     },
     "execution_count": 57,
     "metadata": {},
     "output_type": "execute_result"
    }
   ],
   "source": [
    "locations_values"
   ]
  },
  {
   "cell_type": "code",
   "execution_count": 58,
   "metadata": {},
   "outputs": [],
   "source": [
    "cat_col=[col for col in df5.columns if df5[col].dtypes ==\"O\"]"
   ]
  },
  {
   "cell_type": "code",
   "execution_count": 59,
   "metadata": {},
   "outputs": [
    {
     "data": {
      "text/plain": [
       "['POSTED_BY', 'LOCATION']"
      ]
     },
     "execution_count": 59,
     "metadata": {},
     "output_type": "execute_result"
    }
   ],
   "source": [
    "cat_col"
   ]
  },
  {
   "cell_type": "code",
   "execution_count": null,
   "metadata": {},
   "outputs": [],
   "source": [
    "## Let's use label encoding to fill the value of categorical columns"
   ]
  },
  {
   "cell_type": "code",
   "execution_count": 60,
   "metadata": {},
   "outputs": [
    {
     "data": {
      "text/plain": [
       "array(['Owner', 'Dealer', 'Builder'], dtype=object)"
      ]
     },
     "execution_count": 60,
     "metadata": {},
     "output_type": "execute_result"
    }
   ],
   "source": [
    "df5[\"POSTED_BY\"].unique()"
   ]
  },
  {
   "cell_type": "code",
   "execution_count": 61,
   "metadata": {},
   "outputs": [],
   "source": [
    "posted_map={\"Owner\":0,\"Dealer\":1,\"Builder\":2}"
   ]
  },
  {
   "cell_type": "code",
   "execution_count": 62,
   "metadata": {},
   "outputs": [],
   "source": [
    "all_loc=list(df5.groupby(\"LOCATION\")[\"TARGET(PRICE_IN_LACS)\"].mean().sort_values().index)"
   ]
  },
  {
   "cell_type": "code",
   "execution_count": 63,
   "metadata": {},
   "outputs": [],
   "source": [
    "location_map={loc:i for i,loc in enumerate(all_loc)}"
   ]
  },
  {
   "cell_type": "code",
   "execution_count": 64,
   "metadata": {},
   "outputs": [
    {
     "data": {
      "text/plain": [
       "{'Bankura': 0,\n",
       " 'Pali': 1,\n",
       " 'Korba': 2,\n",
       " 'Bhuj': 3,\n",
       " 'Barabanki': 4,\n",
       " 'Hajipur': 5,\n",
       " 'Gurdaspur': 6,\n",
       " 'Banswara': 7,\n",
       " 'Harda': 8,\n",
       " 'Sabarkantha': 9,\n",
       " 'Hapur': 10,\n",
       " 'Karad': 11,\n",
       " 'Godhra': 12,\n",
       " 'Gadarwara': 13,\n",
       " 'Midnapore': 14,\n",
       " 'Nadiad': 15,\n",
       " 'Shirdi': 16,\n",
       " 'Sikar': 17,\n",
       " 'Anantapur': 18,\n",
       " 'Bhandara': 19,\n",
       " 'Karjat': 20,\n",
       " 'Ujjain': 21,\n",
       " 'Yavatmal': 22,\n",
       " 'Bhavnagar': 23,\n",
       " 'Panipat': 24,\n",
       " 'Machilipatnam': 25,\n",
       " 'Visnagar': 26,\n",
       " 'Rudrapur': 27,\n",
       " 'Palghar': 28,\n",
       " 'Puri': 29,\n",
       " 'Palanpur': 30,\n",
       " 'Junagadh': 31,\n",
       " 'Kharagpur': 32,\n",
       " 'Durgapur': 33,\n",
       " 'Ratnagiri': 34,\n",
       " 'Jharsuguda': 35,\n",
       " 'Bharuch': 36,\n",
       " 'Malappuram': 37,\n",
       " 'Wardha': 38,\n",
       " 'Vapi': 39,\n",
       " 'Kadi': 40,\n",
       " 'Siddipet': 41,\n",
       " 'Neemrana': 42,\n",
       " 'Pudukkottai': 43,\n",
       " 'Osmanabad': 44,\n",
       " 'Gondia': 45,\n",
       " 'Betul': 46,\n",
       " 'Rayagada': 47,\n",
       " 'Bhiwadi': 48,\n",
       " 'Baddi': 49,\n",
       " 'Chandrapur': 50,\n",
       " 'Gandhidham': 51,\n",
       " 'Washim': 52,\n",
       " 'Dhule': 53,\n",
       " 'Jalna': 54,\n",
       " 'Valsad': 55,\n",
       " 'Bhilai': 56,\n",
       " 'Navsari': 57,\n",
       " 'Nanded': 58,\n",
       " 'Hosur': 59,\n",
       " 'Asansol': 60,\n",
       " 'Alwar': 61,\n",
       " 'Thanjavur': 62,\n",
       " 'Hoshiarpur': 63,\n",
       " 'Vizianagaram': 64,\n",
       " 'Jamnagar': 65,\n",
       " 'Nagapattinam': 66,\n",
       " 'Kurukshetra': 67,\n",
       " 'Palwal': 68,\n",
       " 'Sambalpur': 69,\n",
       " 'Haridwar': 70,\n",
       " 'Mathura': 71,\n",
       " 'Bhiwani': 72,\n",
       " 'Morbi': 73,\n",
       " 'Raigad': 74,\n",
       " 'Kurnool': 75,\n",
       " 'Porbandar': 76,\n",
       " 'Chhindwara': 77,\n",
       " 'Hoshangabad': 78,\n",
       " 'Rajpura': 79,\n",
       " 'Raisen': 80,\n",
       " 'Kotdwara': 81,\n",
       " 'Bokaro': 82,\n",
       " 'Meerut': 83,\n",
       " 'Sindhudurg': 84,\n",
       " 'Haldia': 85,\n",
       " 'Bilaspur': 86,\n",
       " 'Solan': 87,\n",
       " 'Bikaner': 88,\n",
       " 'Dhanbad': 89,\n",
       " 'Gadhinglaj': 90,\n",
       " 'Bhopal': 91,\n",
       " 'Aurangabad': 92,\n",
       " 'Karnal': 93,\n",
       " 'Latur': 94,\n",
       " 'Tenali': 95,\n",
       " 'Akola': 96,\n",
       " 'Rajnandgaon': 97,\n",
       " 'Amroha': 98,\n",
       " 'Surendranagar': 99,\n",
       " 'Nellore': 100,\n",
       " 'Hubli': 101,\n",
       " 'Ongole': 102,\n",
       " 'Deoghar': 103,\n",
       " 'Kanchipuram': 104,\n",
       " 'Gulbarga': 105,\n",
       " 'Raipur': 106,\n",
       " 'Nagaur': 107,\n",
       " 'Angul': 108,\n",
       " 'Amravati': 109,\n",
       " 'Siwan': 110,\n",
       " 'Hazaribagh': 111,\n",
       " 'Jhansi': 112,\n",
       " 'Ajmer': 113,\n",
       " 'Muzaffarpur': 114,\n",
       " 'Dharuhera': 115,\n",
       " 'Karaikudi': 116,\n",
       " 'Solapur': 117,\n",
       " 'Kolhapur': 118,\n",
       " 'Jhunjhunu': 119,\n",
       " 'Siliguri': 120,\n",
       " 'Moradabad': 121,\n",
       " 'Nagaon': 122,\n",
       " 'Raichur': 123,\n",
       " 'Durg': 124,\n",
       " 'Satna': 125,\n",
       " 'Gwalior': 126,\n",
       " 'Rishikesh': 127,\n",
       " 'Rewari': 128,\n",
       " 'Ooty': 129,\n",
       " 'Bharatpur': 130,\n",
       " 'Bhagalpur': 131,\n",
       " 'Ahmednagar': 132,\n",
       " 'Agra': 133,\n",
       " 'Rewa': 134,\n",
       " 'Srikakulam': 135,\n",
       " 'Udupi': 136,\n",
       " 'Aligarh': 137,\n",
       " 'Raigarh': 138,\n",
       " 'Darjeeling': 139,\n",
       " 'Bareilly': 140,\n",
       " 'Gaya': 141,\n",
       " 'Kakinada': 142,\n",
       " 'Jodhpur': 143,\n",
       " 'Thoothukudi': 144,\n",
       " 'Jind': 145,\n",
       " 'Gandhinagar': 146,\n",
       " 'Pathanamthitta': 147,\n",
       " 'Guntur': 148,\n",
       " 'Anand': 149,\n",
       " 'Bahadurgarh': 150,\n",
       " 'Bhimavaram': 151,\n",
       " 'Belgaum': 152,\n",
       " 'Indore': 153,\n",
       " 'Amritsar': 154,\n",
       " 'Eluru': 155,\n",
       " 'Jamshedpur': 156,\n",
       " 'Patiala': 157,\n",
       " 'Balasore': 158,\n",
       " 'Chittoor': 159,\n",
       " 'Jagdalpur': 160,\n",
       " 'Margao': 161,\n",
       " 'Bardhaman': 162,\n",
       " 'Rajkot': 163,\n",
       " 'Palakkad': 164,\n",
       " 'Dharwad': 165,\n",
       " 'Madurai': 166,\n",
       " 'Berhampur': 167,\n",
       " 'Dalhousie': 168,\n",
       " 'Tirunelveli': 169,\n",
       " 'Sonipat': 170,\n",
       " 'Kota': 171,\n",
       " 'Warangal': 172,\n",
       " 'Vijayawada': 173,\n",
       " 'Silchar': 174,\n",
       " 'Ottapalam': 175,\n",
       " 'Kangra': 176,\n",
       " 'Dahod': 177,\n",
       " 'Roorkee': 178,\n",
       " 'Jabalpur': 179,\n",
       " 'Pondicherry': 180,\n",
       " 'Rohtak': 181,\n",
       " 'Guwahati': 182,\n",
       " 'Jalandhar': 183,\n",
       " 'Vellore': 184,\n",
       " 'Allahabad': 185,\n",
       " 'Tirupati': 186,\n",
       " 'Rourkela': 187,\n",
       " 'Udaipur': 188,\n",
       " 'Cuttack': 189,\n",
       " 'Agartala': 190,\n",
       " 'Secunderabad': 191,\n",
       " 'Vadodara': 192,\n",
       " 'Darbhanga': 193,\n",
       " 'Kadapa': 194,\n",
       " 'Visakhapatnam': 195,\n",
       " 'Ghaziabad': 196,\n",
       " 'Jaipur': 197,\n",
       " 'Dibrugarh': 198,\n",
       " 'Thrissur': 199,\n",
       " 'Kannur': 200,\n",
       " 'Patna': 201,\n",
       " 'Faridabad': 202,\n",
       " 'Beed': 203,\n",
       " 'Ambala': 204,\n",
       " 'Kollam': 205,\n",
       " 'Bhubaneswar': 206,\n",
       " 'Nainital': 207,\n",
       " 'Jajpur': 208,\n",
       " 'Surat': 209,\n",
       " 'Haldwani': 210,\n",
       " 'Shimla': 211,\n",
       " 'Varanasi': 212,\n",
       " 'Mysore': 213,\n",
       " 'Mangalore': 214,\n",
       " 'Dehradun': 215,\n",
       " 'Karwar': 216,\n",
       " 'Nagpur': 217,\n",
       " 'Coimbatore': 218,\n",
       " 'Ernakulam': 219,\n",
       " 'Salem': 220,\n",
       " 'Phagwara': 221,\n",
       " 'Ludhiana': 222,\n",
       " 'Faizabad': 223,\n",
       " 'Jammu': 224,\n",
       " 'Panchkula': 225,\n",
       " 'Idukki': 226,\n",
       " 'Arrah': 227,\n",
       " 'Lucknow': 228,\n",
       " 'Hassan': 229,\n",
       " 'Srinagar': 230,\n",
       " 'Chandigarh': 231,\n",
       " 'Kolkata': 232,\n",
       " 'Kanpur': 233,\n",
       " 'Kottayam': 234,\n",
       " 'Panaji': 235,\n",
       " 'Jalgaon': 236,\n",
       " 'Mohali': 237,\n",
       " 'Erode': 238,\n",
       " 'Pune': 239,\n",
       " 'Kochi': 240,\n",
       " 'Ranchi': 241,\n",
       " 'Noida': 242,\n",
       " 'Hathras': 243,\n",
       " 'Chennai': 244,\n",
       " 'Bangalore': 245,\n",
       " 'Goa': 246,\n",
       " 'Lalitpur': 247,\n",
       " 'Mumbai': 248,\n",
       " 'Maharashtra': 249,\n",
       " 'Gurgaon': 250,\n",
       " 'Cuddalore': 251}"
      ]
     },
     "execution_count": 64,
     "metadata": {},
     "output_type": "execute_result"
    }
   ],
   "source": [
    "location_map"
   ]
  },
  {
   "cell_type": "code",
   "execution_count": 65,
   "metadata": {},
   "outputs": [],
   "source": [
    "df5[\"LOCATION\"]=df5[\"LOCATION\"].map(location_map)"
   ]
  },
  {
   "cell_type": "code",
   "execution_count": 66,
   "metadata": {},
   "outputs": [],
   "source": [
    "df5[\"POSTED_BY\"]=df5[\"POSTED_BY\"].map(posted_map)"
   ]
  },
  {
   "cell_type": "code",
   "execution_count": 67,
   "metadata": {},
   "outputs": [
    {
     "name": "stdout",
     "output_type": "stream",
     "text": [
      "<class 'pandas.core.frame.DataFrame'>\n",
      "Int64Index: 29377 entries, 0 to 29450\n",
      "Data columns (total 9 columns):\n",
      " #   Column                 Non-Null Count  Dtype  \n",
      "---  ------                 --------------  -----  \n",
      " 0   POSTED_BY              29377 non-null  int64  \n",
      " 1   UNDER_CONSTRUCTION     29377 non-null  int64  \n",
      " 2   RERA                   29377 non-null  int64  \n",
      " 3   BHK_NO.                29377 non-null  int64  \n",
      " 4   SQUARE_FT              29377 non-null  float64\n",
      " 5   READY_TO_MOVE          29377 non-null  int64  \n",
      " 6   RESALE                 29377 non-null  int64  \n",
      " 7   TARGET(PRICE_IN_LACS)  29377 non-null  float64\n",
      " 8   LOCATION               29377 non-null  int64  \n",
      "dtypes: float64(2), int64(7)\n",
      "memory usage: 3.2 MB\n"
     ]
    }
   ],
   "source": [
    "df5.info()"
   ]
  },
  {
   "cell_type": "markdown",
   "metadata": {},
   "source": [
    "## Let's see correlation plot"
   ]
  },
  {
   "cell_type": "code",
   "execution_count": null,
   "metadata": {},
   "outputs": [],
   "source": [
    "##Let's plot correlation between output and input features"
   ]
  },
  {
   "cell_type": "code",
   "execution_count": 68,
   "metadata": {},
   "outputs": [
    {
     "data": {
      "text/plain": [
       "<Axes: >"
      ]
     },
     "execution_count": 68,
     "metadata": {},
     "output_type": "execute_result"
    },
    {
     "data": {
      "image/png": "[encoded data removed]",
      "text/plain": [
       "<Figure size 1000x500 with 1 Axes>"
      ]
     },
     "metadata": {},
     "output_type": "display_data"
    }
   ],
   "source": [
    "plt.figure(figsize=(10,5))\n",
    "df5.drop(columns=[\"TARGET(PRICE_IN_LACS)\"]).corrwith(df[\"TARGET(PRICE_IN_LACS)\"]).plot(kind=\"bar\",color=\"purple\")"
   ]
  },
  {
   "cell_type": "code",
   "execution_count": null,
   "metadata": {},
   "outputs": [],
   "source": [
    "## As you can see the square foot column is more correlated"
   ]
  },
  {
   "cell_type": "code",
   "execution_count": null,
   "metadata": {},
   "outputs": [],
   "source": [
    "## Let's see correlation betweem input features"
   ]
  },
  {
   "cell_type": "code",
   "execution_count": 69,
   "metadata": {},
   "outputs": [
    {
     "data": {
      "text/plain": [
       "<Axes: >"
      ]
     },
     "execution_count": 69,
     "metadata": {},
     "output_type": "execute_result"
    },
    {
     "data": {
      "image/png": "[encoded data removed]",
      "text/plain": [
       "<Figure size 1500x1500 with 2 Axes>"
      ]
     },
     "metadata": {},
     "output_type": "display_data"
    }
   ],
   "source": [
    "plt.figure(figsize=(15,15))\n",
    "sns.heatmap(df5.drop(columns=[\"TARGET(PRICE_IN_LACS)\"]).corr(),cmap=\"rainbow\",fmt=\".2f\",annot=True)"
   ]
  },
  {
   "cell_type": "code",
   "execution_count": null,
   "metadata": {},
   "outputs": [],
   "source": [
    "## As I can see there is high correlation betwwen under construction and ready to move. The realtion is clear that as the house is under cnstruction it is not ready to use hence drop it"
   ]
  },
  {
   "cell_type": "code",
   "execution_count": 70,
   "metadata": {},
   "outputs": [],
   "source": [
    "df5.drop(columns=[\"UNDER_CONSTRUCTION\"],inplace=True)"
   ]
  },
  {
   "cell_type": "markdown",
   "metadata": {},
   "source": [
    "### Model Building"
   ]
  },
  {
   "cell_type": "code",
   "execution_count": 71,
   "metadata": {},
   "outputs": [],
   "source": [
    "X=df5.drop(columns=[\"TARGET(PRICE_IN_LACS)\"])\n",
    "y=df5[\"TARGET(PRICE_IN_LACS)\"]"
   ]
  },
  {
   "cell_type": "code",
   "execution_count": 72,
   "metadata": {},
   "outputs": [
    {
     "data": {
      "text/html": [
       "<div>\n",
       "<style scoped>\n",
       "    .dataframe tbody tr th:only-of-type {\n",
       "        vertical-align: middle;\n",
       "    }\n",
       "\n",
       "    .dataframe tbody tr th {\n",
       "        vertical-align: top;\n",
       "    }\n",
       "\n",
       "    .dataframe thead th {\n",
       "        text-align: right;\n",
       "    }\n",
       "</style>\n",
       "<table border=\"1\" class=\"dataframe\">\n",
       "  <thead>\n",
       "    <tr style=\"text-align: right;\">\n",
       "      <th></th>\n",
       "      <th>POSTED_BY</th>\n",
       "      <th>RERA</th>\n",
       "      <th>BHK_NO.</th>\n",
       "      <th>SQUARE_FT</th>\n",
       "      <th>READY_TO_MOVE</th>\n",
       "      <th>RESALE</th>\n",
       "      <th>LOCATION</th>\n",
       "    </tr>\n",
       "  </thead>\n",
       "  <tbody>\n",
       "    <tr>\n",
       "      <th>0</th>\n",
       "      <td>0</td>\n",
       "      <td>0</td>\n",
       "      <td>2</td>\n",
       "      <td>1300.236407</td>\n",
       "      <td>1</td>\n",
       "      <td>1</td>\n",
       "      <td>245</td>\n",
       "    </tr>\n",
       "    <tr>\n",
       "      <th>1</th>\n",
       "      <td>1</td>\n",
       "      <td>0</td>\n",
       "      <td>2</td>\n",
       "      <td>1275.000000</td>\n",
       "      <td>1</td>\n",
       "      <td>1</td>\n",
       "      <td>213</td>\n",
       "    </tr>\n",
       "    <tr>\n",
       "      <th>2</th>\n",
       "      <td>0</td>\n",
       "      <td>0</td>\n",
       "      <td>2</td>\n",
       "      <td>933.159722</td>\n",
       "      <td>1</td>\n",
       "      <td>1</td>\n",
       "      <td>245</td>\n",
       "    </tr>\n",
       "    <tr>\n",
       "      <th>3</th>\n",
       "      <td>0</td>\n",
       "      <td>1</td>\n",
       "      <td>2</td>\n",
       "      <td>929.921143</td>\n",
       "      <td>1</td>\n",
       "      <td>1</td>\n",
       "      <td>196</td>\n",
       "    </tr>\n",
       "    <tr>\n",
       "      <th>4</th>\n",
       "      <td>1</td>\n",
       "      <td>0</td>\n",
       "      <td>2</td>\n",
       "      <td>999.009247</td>\n",
       "      <td>0</td>\n",
       "      <td>1</td>\n",
       "      <td>232</td>\n",
       "    </tr>\n",
       "  </tbody>\n",
       "</table>\n",
       "</div>"
      ],
      "text/plain": [
       "   POSTED_BY  RERA  BHK_NO.    SQUARE_FT  READY_TO_MOVE  RESALE  LOCATION\n",
       "0          0     0        2  1300.236407              1       1       245\n",
       "1          1     0        2  1275.000000              1       1       213\n",
       "2          0     0        2   933.159722              1       1       245\n",
       "3          0     1        2   929.921143              1       1       196\n",
       "4          1     0        2   999.009247              0       1       232"
      ]
     },
     "execution_count": 72,
     "metadata": {},
     "output_type": "execute_result"
    }
   ],
   "source": [
    "X.head()"
   ]
  },
  {
   "cell_type": "code",
   "execution_count": 73,
   "metadata": {},
   "outputs": [
    {
     "data": {
      "text/plain": [
       "(29377, 7)"
      ]
     },
     "execution_count": 73,
     "metadata": {},
     "output_type": "execute_result"
    }
   ],
   "source": [
    "X.shape"
   ]
  },
  {
   "cell_type": "code",
   "execution_count": 77,
   "metadata": {},
   "outputs": [
    {
     "ename": "ModuleNotFoundError",
     "evalue": "No module named 'xgboost'",
     "output_type": "error",
     "traceback": [
      "\u001b[1;31m---------------------------------------------------------------------------\u001b[0m",
      "\u001b[1;31mModuleNotFoundError\u001b[0m                       Traceback (most recent call last)",
      "Cell \u001b[1;32mIn[77], line 8\u001b[0m\n\u001b[0;32m      6\u001b[0m \u001b[38;5;28;01mfrom\u001b[39;00m \u001b[38;5;21;01msklearn\u001b[39;00m\u001b[38;5;21;01m.\u001b[39;00m\u001b[38;5;21;01mensemble\u001b[39;00m \u001b[38;5;28;01mimport\u001b[39;00m RandomForestRegressor,GradientBoostingRegressor\n\u001b[0;32m      7\u001b[0m \u001b[38;5;66;03m# from catboost import CatBoostRegressor\u001b[39;00m\n\u001b[1;32m----> 8\u001b[0m \u001b[38;5;28;01mfrom\u001b[39;00m \u001b[38;5;21;01mxgboost\u001b[39;00m \u001b[38;5;28;01mimport\u001b[39;00m XGBRegressor\n\u001b[0;32m      9\u001b[0m \u001b[38;5;28;01mfrom\u001b[39;00m \u001b[38;5;21;01mlightgbm\u001b[39;00m \u001b[38;5;28;01mimport\u001b[39;00m LGBMRegressor\n\u001b[0;32m     10\u001b[0m \u001b[38;5;28;01mfrom\u001b[39;00m \u001b[38;5;21;01msklearn\u001b[39;00m\u001b[38;5;21;01m.\u001b[39;00m\u001b[38;5;21;01mmetrics\u001b[39;00m \u001b[38;5;28;01mimport\u001b[39;00m r2_score,mean_squared_error\n",
      "\u001b[1;31mModuleNotFoundError\u001b[0m: No module named 'xgboost'"
     ]
    }
   ],
   "source": [
    "from sklearn.model_selection import train_test_split,cross_val_score,RandomizedSearchCV\n",
    "from sklearn.preprocessing import StandardScaler\n",
    "from sklearn.linear_model import LinearRegression,Lasso,Ridge\n",
    "from sklearn.svm import SVR\n",
    "from sklearn.tree import DecisionTreeRegressor\n",
    "from sklearn.ensemble import RandomForestRegressor,GradientBoostingRegressor\n",
    "# from catboost import CatBoostRegressor\n",
    "# from xgboost import XGBRegressor\n",
    "from lightgbm import LGBMRegressor\n",
    "from sklearn.metrics import r2_score,mean_squared_error"
   ]
  },
  {
   "cell_type": "code",
   "execution_count": null,
   "metadata": {},
   "outputs": [],
   "source": [
    "train_X,test_X,train_y,test_y=train_test_split(X,y,test_size=0.15,random_state=100)"
   ]
  },
  {
   "cell_type": "code",
   "execution_count": null,
   "metadata": {},
   "outputs": [],
   "source": [
    "sc=StandardScaler()\n",
    "train_X=sc.fit_transform(train_X)"
   ]
  },
  {
   "cell_type": "code",
   "execution_count": null,
   "metadata": {},
   "outputs": [],
   "source": [
    "test_X=sc.transform(test_X)"
   ]
  },
  {
   "cell_type": "code",
   "execution_count": null,
   "metadata": {},
   "outputs": [],
   "source": [
    "def check_test_score(model):\n",
    "    pred=model.predict(test_X)\n",
    "    print(\"R2 score is:\", r2_score(test_y,pred))\n",
    "    print(\"The mean squared error is :\",mean_squared_error(test_y,pred))\n",
    "    "
   ]
  },
  {
   "cell_type": "code",
   "execution_count": null,
   "metadata": {},
   "outputs": [],
   "source": [
    "lr=LinearRegression()\n",
    "lr.fit(train_X,train_y)"
   ]
  },
  {
   "cell_type": "code",
   "execution_count": null,
   "metadata": {},
   "outputs": [],
   "source": [
    "check_test_score(lr)"
   ]
  },
  {
   "cell_type": "code",
   "execution_count": null,
   "metadata": {},
   "outputs": [],
   "source": [
    "lasso=Lasso(random_state=100)\n",
    "lasso.fit(train_X,train_y)"
   ]
  },
  {
   "cell_type": "code",
   "execution_count": null,
   "metadata": {},
   "outputs": [],
   "source": [
    "check_test_score(lasso)"
   ]
  },
  {
   "cell_type": "code",
   "execution_count": null,
   "metadata": {},
   "outputs": [],
   "source": [
    "ridge=Ridge(random_state=100)\n",
    "ridge.fit(train_X,train_y)"
   ]
  },
  {
   "cell_type": "code",
   "execution_count": null,
   "metadata": {},
   "outputs": [],
   "source": [
    "check_test_score(ridge)"
   ]
  },
  {
   "cell_type": "code",
   "execution_count": null,
   "metadata": {},
   "outputs": [],
   "source": [
    "sv_regressor=SVR(kernel=\"linear\")\n",
    "sv_regressor.fit(train_X,train_y)"
   ]
  },
  {
   "cell_type": "code",
   "execution_count": null,
   "metadata": {},
   "outputs": [],
   "source": [
    "check_test_score(sv_regressor)"
   ]
  },
  {
   "cell_type": "code",
   "execution_count": null,
   "metadata": {},
   "outputs": [],
   "source": [
    "sv_regressor=SVR(kernel=\"rbf\")\n",
    "sv_regressor.fit(train_X,train_y)"
   ]
  },
  {
   "cell_type": "code",
   "execution_count": null,
   "metadata": {},
   "outputs": [],
   "source": [
    "check_test_score(sv_regressor)"
   ]
  },
  {
   "cell_type": "code",
   "execution_count": null,
   "metadata": {},
   "outputs": [],
   "source": [
    "dt=DecisionTreeRegressor()\n",
    "dt.fit(train_X,train_y)"
   ]
  },
  {
   "cell_type": "code",
   "execution_count": null,
   "metadata": {},
   "outputs": [],
   "source": [
    "check_test_score(dt)"
   ]
  },
  {
   "cell_type": "code",
   "execution_count": null,
   "metadata": {},
   "outputs": [],
   "source": [
    "rf=RandomForestRegressor()"
   ]
  },
  {
   "cell_type": "code",
   "execution_count": null,
   "metadata": {},
   "outputs": [],
   "source": [
    "rf.fit(train_X,train_y)"
   ]
  },
  {
   "cell_type": "code",
   "execution_count": null,
   "metadata": {},
   "outputs": [],
   "source": [
    "check_test_score(rf)"
   ]
  },
  {
   "cell_type": "code",
   "execution_count": null,
   "metadata": {},
   "outputs": [],
   "source": [
    "gradient_bosting=GradientBoostingRegressor()\n",
    "gradient_bosting.fit(train_X,train_y)"
   ]
  },
  {
   "cell_type": "code",
   "execution_count": null,
   "metadata": {},
   "outputs": [],
   "source": [
    "check_test_score(gradient_bosting)"
   ]
  },
  {
   "cell_type": "code",
   "execution_count": null,
   "metadata": {},
   "outputs": [],
   "source": [
    "cat_boost=CatBoostRegressor()\n",
    "cat_boost.fit(train_X,train_y)"
   ]
  },
  {
   "cell_type": "code",
   "execution_count": null,
   "metadata": {},
   "outputs": [],
   "source": [
    "check_test_score(cat_boost)"
   ]
  },
  {
   "cell_type": "code",
   "execution_count": null,
   "metadata": {},
   "outputs": [],
   "source": [
    "xg_boost=XGBRegressor()\n",
    "xg_boost.fit(train_X,train_y)"
   ]
  },
  {
   "cell_type": "code",
   "execution_count": null,
   "metadata": {},
   "outputs": [],
   "source": [
    "check_test_score(xg_boost)"
   ]
  },
  {
   "cell_type": "code",
   "execution_count": null,
   "metadata": {},
   "outputs": [],
   "source": [
    "light_gbm=LGBMRegressor()\n",
    "light_gbm.fit(train_X,train_y)"
   ]
  },
  {
   "cell_type": "code",
   "execution_count": null,
   "metadata": {},
   "outputs": [],
   "source": [
    "check_test_score(light_gbm)"
   ]
  },
  {
   "cell_type": "code",
   "execution_count": null,
   "metadata": {},
   "outputs": [],
   "source": [
    "## Among all models Gradient Boosting Techniques Outperforms all these values"
   ]
  },
  {
   "cell_type": "code",
   "execution_count": null,
   "metadata": {},
   "outputs": [],
   "source": [
    "sc=StandardScaler()\n",
    "X=sc.fit_transform(X)"
   ]
  },
  {
   "cell_type": "code",
   "execution_count": null,
   "metadata": {},
   "outputs": [],
   "source": [
    "cross_val_score(GradientBoostingRegressor(),X,y,cv=10,scoring=\"r2\",verbose=2,n_jobs=-1)"
   ]
  },
  {
   "cell_type": "code",
   "execution_count": null,
   "metadata": {},
   "outputs": [],
   "source": [
    "model=GradientBoostingRegressor()"
   ]
  },
  {
   "cell_type": "code",
   "execution_count": null,
   "metadata": {},
   "outputs": [],
   "source": [
    "model.fit(X,y)"
   ]
  },
  {
   "cell_type": "code",
   "execution_count": null,
   "metadata": {},
   "outputs": [],
   "source": [
    "model.score(test_X,test_y)"
   ]
  },
  {
   "cell_type": "code",
   "execution_count": null,
   "metadata": {},
   "outputs": [],
   "source": [
    "## As you can see it is performimg well\n",
    "import pickle"
   ]
  },
  {
   "cell_type": "code",
   "execution_count": null,
   "metadata": {},
   "outputs": [],
   "source": [
    "with open(\"my_model.pkl\",\"wb\") as f:\n",
    "    pickle.dump(model,f)"
   ]
  },
  {
   "cell_type": "code",
   "execution_count": null,
   "metadata": {},
   "outputs": [],
   "source": [
    "with open(\"my_scalar.pkl\",\"wb\") as f:\n",
    "    pickle.dump(sc,f)"
   ]
  },
  {
   "cell_type": "code",
   "execution_count": null,
   "metadata": {},
   "outputs": [],
   "source": [
    "df5"
   ]
  },
  {
   "cell_type": "code",
   "execution_count": null,
   "metadata": {},
   "outputs": [],
   "source": [
    "posted_map"
   ]
  },
  {
   "cell_type": "code",
   "execution_count": null,
   "metadata": {},
   "outputs": [],
   "source": [
    "yes_map={\"Yes\":1,\"No\":0}"
   ]
  },
  {
   "cell_type": "code",
   "execution_count": null,
   "metadata": {},
   "outputs": [],
   "source": [
    "Pause=True\n",
    "while Pause:\n",
    "    values=[]\n",
    "    a=input(\"POSTED_BY\")\n",
    "    values.append(posted_map[a])\n",
    "    a=input(\"RERA approved or not\")\n",
    "    values.append(yes_map[a])\n",
    "    a=int(input(\"Number of Rooms\"))\n",
    "    values.append(a)\n",
    "    a=int(input(\"Square foot\"))\n",
    "    values.append(a)\n",
    "    a=input(\"Ready to Move\")\n",
    "    values.append(yes_map[a])\n",
    "    a=input(\"Resale\")\n",
    "    values.append(yes_map[a])\n",
    "    a=input(\"Location\")\n",
    "    values.append(location_map[a])\n",
    "    Pause=False\n",
    "    "
   ]
  },
  {
   "cell_type": "code",
   "execution_count": null,
   "metadata": {},
   "outputs": [],
   "source": [
    "val=sc.transform([values])"
   ]
  },
  {
   "cell_type": "code",
   "execution_count": null,
   "metadata": {},
   "outputs": [],
   "source": [
    "model.predict(val)"
   ]
  },
  {
   "cell_type": "code",
   "execution_count": null,
   "metadata": {},
   "outputs": [],
   "source": [
    "for loc in locations_values:\n",
    "    print(f\"\"\"<option value=\"{loc}\">{loc}</option>\"\"\")"
   ]
  },
  {
   "cell_type": "code",
   "execution_count": null,
   "metadata": {},
   "outputs": [],
   "source": [
    "len(locations_values)"
   ]
  },
  {
   "cell_type": "code",
   "execution_count": null,
   "metadata": {},
   "outputs": [],
   "source": [
    "posted_map={'Owner': 0, 'Dealer': 1, 'Builder': 2}"
   ]
  },
  {
   "cell_type": "code",
   "execution_count": null,
   "metadata": {},
   "outputs": [],
   "source": [
    "posted_map"
   ]
  },
  {
   "cell_type": "code",
   "execution_count": null,
   "metadata": {},
   "outputs": [],
   "source": [
    "location_map"
   ]
  },
  {
   "cell_type": "code",
   "execution_count": null,
   "metadata": {},
   "outputs": [],
   "source": []
  }
 ],
 "metadata": {
  "kernelspec": {
   "display_name": "Python 3 (ipykernel)",
   "language": "python",
   "name": "python3"
  },
  "language_info": {
   "codemirror_mode": {
    "name": "ipython",
    "version": 3
   },
   "file_extension": ".py",
   "mimetype": "text/x-python",
   "name": "python",
   "nbconvert_exporter": "python",
   "pygments_lexer": "ipython3",
   "version": "3.10.9"
  }
 },
 "nbformat": 4,
 "nbformat_minor": 4
}
